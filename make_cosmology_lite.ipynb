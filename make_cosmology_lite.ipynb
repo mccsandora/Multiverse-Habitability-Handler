{
 "cells": [
  {
   "cell_type": "code",
   "execution_count": 1,
   "id": "d3ddb0da-861a-4fe0-a430-9d385a1a3524",
   "metadata": {},
   "outputs": [
    {
     "name": "stdout",
     "output_type": "stream",
     "text": [
      "[1419912, 4896302, 3453734, 3453724]\n",
      "CPU times: user 26.6 s, sys: 1.86 s, total: 28.4 s\n",
      "Wall time: 33.4 s\n"
     ]
    }
   ],
   "source": [
    "%%time\n",
    "import itertools\n",
    "import numpy as np\n",
    "import sobol_seq\n",
    "from matplotlib import pyplot as plt\n",
    "from sample_generator import generate_random_samples\n",
    "\n",
    "from muhaha import *\n",
    "from units import *\n",
    "\n",
    "L5[3] = L5[3][:,:L5[2].shape[1]-10]\n",
    "print([len(l.T) for l in L5])"
   ]
  },
  {
   "cell_type": "code",
   "execution_count": 2,
   "id": "f78c5bd9-d6c8-414d-a0ad-e3b64de706c0",
   "metadata": {},
   "outputs": [
    {
     "name": "stdout",
     "output_type": "stream",
     "text": [
      "CPU times: user 34.2 s, sys: 326 ms, total: 34.6 s\n",
      "Wall time: 34.8 s\n"
     ]
    }
   ],
   "source": [
    "%%time\n",
    " \n",
    "def P_Q(Q,p_Q):\n",
    "    Qmin=.1\n",
    "    Qmax=10\n",
    "    if p_Q==0:\n",
    "        return (Qmax-Qmin)*Q+Qmin\n",
    "    if p_Q==1: # log-uniform\n",
    "        return Qmin*(Qmax/Qmin)**Q\n",
    "    if p_Q==2: #quadratic\n",
    "        return (Qmax-Qmin)*Q**(1/3)+Qmin\n",
    "\n",
    "def make_cosmology_suite(num,p_Q=1):\n",
    "    #C = sobol_seq.i4_sobol_generate(2,num).T\n",
    "    C = sobol_seq.i4_sobol_generate(8,num)[:,-2:].T\n",
    "    c_Q,c_kappa = tuple(C)\n",
    "    pQ = P_Q(c_Q,p_Q)\n",
    "    kappa_max = 10\n",
    "    cdict={}\n",
    "    for k_kappa in kappa_powers:\n",
    "        pkappa = kappa_max*(c_kappa**(1/(k_kappa+1)))\n",
    "        cdict[k_kappa] = np.array([pQ,pkappa])\n",
    "    return cdict\n",
    "\n",
    "kappa_powers = [1/2,7/8,5/4,13/8]\n",
    "kappa_str_powers = ['1/2','7/8','5/4','13/8']\n",
    "CB = make_cosmology_suite(L5[2].shape[1])"
   ]
  },
  {
   "cell_type": "code",
   "execution_count": 3,
   "id": "3dec5347-530b-4e64-aa80-6bd3e08fd059",
   "metadata": {},
   "outputs": [],
   "source": [
    "H_compare = {'H_photo':[0,1,2], \n",
    "             'H_TL':[0,1], \n",
    "             'H_bio':[0,1],\n",
    "             'H_plates':[0], \n",
    "             'H_terr':[0,1], \n",
    "             'H_temp':[0,1],\n",
    "             'H_time':[0,1], \n",
    "             'H_area':[0,1], \n",
    "             'H_S':[0,1],\n",
    "             'H_CO':[0,1,2],\n",
    "             'H_NPS':[0,1],\n",
    "             'H_obliquity':[0,1],\n",
    "             'H_ool':[0,1,2,3,4,5,6,7,8,9,10],\n",
    "             'Q_l':1,\n",
    "             'Q_ER':1,\n",
    "             'Q_C':1,\n",
    "             'return_df':True}"
   ]
  },
  {
   "cell_type": "code",
   "execution_count": 4,
   "id": "750b4d4b-daf9-4feb-b2e6-182eb61556a7",
   "metadata": {},
   "outputs": [
    {
     "name": "stdout",
     "output_type": "stream",
     "text": [
      "caches/L5_kkappa=0*5_kgamma=0*25\n"
     ]
    },
    {
     "name": "stderr",
     "output_type": "stream",
     "text": [
      "100%|███████████████████████████████████████████████████████████████████████████████████████| 4500/4500 [1:09:04<00:00,  1.09it/s]\n"
     ]
    },
    {
     "name": "stdout",
     "output_type": "stream",
     "text": [
      "32\n",
      " TL time C/O IDP sfr 0.186\n",
      "\n",
      "caches/L5_kkappa=0*5_kgamma=1\n"
     ]
    },
    {
     "name": "stderr",
     "output_type": "stream",
     "text": [
      "100%|█████████████████████████████████████████████████████████████████████████████████████████| 4500/4500 [58:49<00:00,  1.27it/s]\n"
     ]
    },
    {
     "name": "stdout",
     "output_type": "stream",
     "text": [
      "15\n",
      "yellow area C/O lightning sfr 0.15\n",
      "\n",
      "caches/L5_kkappa=0*875_kgamma=0*25\n"
     ]
    },
    {
     "name": "stderr",
     "output_type": "stream",
     "text": [
      "100%|███████████████████████████████████████████████████████████████████████████████████████| 4500/4500 [1:02:19<00:00,  1.20it/s]\n"
     ]
    },
    {
     "name": "stdout",
     "output_type": "stream",
     "text": [
      "19\n",
      "yellow TL Mg/Si moneta sfr 0.255\n",
      "\n",
      "caches/L5_kkappa=0*875_kgamma=1\n"
     ]
    },
    {
     "name": "stderr",
     "output_type": "stream",
     "text": [
      "100%|███████████████████████████████████████████████████████████████████████████████████████| 4500/4500 [1:00:15<00:00,  1.24it/s]\n"
     ]
    },
    {
     "name": "stdout",
     "output_type": "stream",
     "text": [
      "10\n",
      "yellow TL Mg/Si moneta sfr 0.229\n",
      "\n",
      "caches/L5_kkappa=0*875_kgamma=0*75\n"
     ]
    },
    {
     "name": "stderr",
     "output_type": "stream",
     "text": [
      "100%|█████████████████████████████████████████████████████████████████████████████████████████| 4500/4500 [45:23<00:00,  1.65it/s]\n"
     ]
    },
    {
     "name": "stdout",
     "output_type": "stream",
     "text": [
      "13\n",
      "yellow TL Mg/Si moneta sfr 0.254\n",
      "\n",
      "caches/L5_kkappa=0*875_kgamma=1*5\n"
     ]
    },
    {
     "name": "stderr",
     "output_type": "stream",
     "text": [
      "100%|█████████████████████████████████████████████████████████████████████████████████████████| 4500/4500 [45:21<00:00,  1.65it/s]\n"
     ]
    },
    {
     "name": "stdout",
     "output_type": "stream",
     "text": [
      "10\n",
      "yellow area C/O comets sfr 0.16\n",
      "\n",
      "caches/L5_kkappa=1*25_kgamma=0*75\n"
     ]
    },
    {
     "name": "stderr",
     "output_type": "stream",
     "text": [
      "100%|█████████████████████████████████████████████████████████████████████████████████████████| 4500/4500 [45:29<00:00,  1.65it/s]\n"
     ]
    },
    {
     "name": "stdout",
     "output_type": "stream",
     "text": [
      "6\n",
      "yellow TL Mg/Si moneta sfr 0.213\n",
      "\n",
      "caches/L5_kkappa=1*25_kgamma=1*5\n"
     ]
    },
    {
     "name": "stderr",
     "output_type": "stream",
     "text": [
      "100%|█████████████████████████████████████████████████████████████████████████████████████████| 4500/4500 [45:13<00:00,  1.66it/s]\n"
     ]
    },
    {
     "name": "stdout",
     "output_type": "stream",
     "text": [
      "7\n",
      "yellow area C/O moneta sfr 0.188\n",
      "\n",
      "caches/L5_kkappa=1*25_kgamma=1*25\n"
     ]
    },
    {
     "name": "stderr",
     "output_type": "stream",
     "text": [
      "100%|█████████████████████████████████████████████████████████████████████████████████████████| 4500/4500 [48:12<00:00,  1.56it/s]\n"
     ]
    },
    {
     "name": "stdout",
     "output_type": "stream",
     "text": [
      "7\n",
      "yellow area C/O moneta sfr 0.218\n",
      "\n",
      "caches/L5_kkappa=1*25_kgamma=2\n"
     ]
    },
    {
     "name": "stderr",
     "output_type": "stream",
     "text": [
      "100%|█████████████████████████████████████████████████████████████████████████████████████████| 4500/4500 [44:02<00:00,  1.70it/s]\n"
     ]
    },
    {
     "name": "stdout",
     "output_type": "stream",
     "text": [
      "1\n",
      "yellow area C/O moneta sfr 0.135\n",
      "\n",
      "caches/L5_kkappa=1*625_kgamma=1*25\n"
     ]
    },
    {
     "name": "stderr",
     "output_type": "stream",
     "text": [
      "100%|█████████████████████████████████████████████████████████████████████████████████████████| 4500/4500 [44:56<00:00,  1.67it/s]\n"
     ]
    },
    {
     "name": "stdout",
     "output_type": "stream",
     "text": [
      "0\n",
      " temp area Mg/Si XUV sfr 0.0585\n",
      "\n",
      "caches/L5_kkappa=1*625_kgamma=2\n"
     ]
    },
    {
     "name": "stderr",
     "output_type": "stream",
     "text": [
      "100%|█████████████████████████████████████████████████████████████████████████████████████████| 4500/4500 [45:14<00:00,  1.66it/s]"
     ]
    },
    {
     "name": "stdout",
     "output_type": "stream",
     "text": [
      "0\n",
      " temp area Mg/Si XUV sfr 0.0821\n",
      "\n"
     ]
    },
    {
     "name": "stderr",
     "output_type": "stream",
     "text": [
      "\n"
     ]
    }
   ],
   "source": [
    "for qdm, qeta, qsn in itertools.product([-1,-1/2,0],\n",
    "                                        [-1,-1/2],\n",
    "                                        [-3/4,0]):\n",
    "    k_kappa = 2+3/4*(qeta+qdm)\n",
    "    k_gamma = 2+qdm+qsn\n",
    "    cachetit = f'caches/L5_kkappa={k_kappa}_kgamma={k_gamma}'.replace('.','*')\n",
    "    print(cachetit)\n",
    "    df2 = compute_probs(**H_compare,\n",
    "               H_sfr=[1],\n",
    "               verbose=False,\n",
    "               return_Plist=True,\n",
    "               CB=CB[k_kappa],\n",
    "               k_W=k_gamma,\n",
    "               max_P=5,\n",
    "               use_cache=cachetit\n",
    "              )\n",
    "    print(len(df2[df2['min']>.1]))\n",
    "    print(df2.sort_values('min',ascending=False).index[0],max(df2['min']))\n",
    "    print()"
   ]
  },
  {
   "cell_type": "code",
   "execution_count": 5,
   "id": "769a6679-9ddd-4379-a992-f6712f600a82",
   "metadata": {},
   "outputs": [
    {
     "name": "stderr",
     "output_type": "stream",
     "text": [
      "100%|████████████████████████████████████████████████████████████████████████████████████| 34074/34074 [14:11:03<00:00,  1.50s/it]\n"
     ]
    }
   ],
   "source": [
    "df = compute_probs(**H_compare,\n",
    "                   H_sfr=[1],\n",
    "                   verbose=False,\n",
    "                   return_Plist=True,\n",
    "                   CB=CB[1/2],\n",
    "                   max_P=8,\n",
    "                   use_cache='caches/L5_kkappa_onehalf'\n",
    "                  )"
   ]
  },
  {
   "cell_type": "code",
   "execution_count": null,
   "id": "6e2125ff-0984-4c2d-b87a-addda587cae1",
   "metadata": {},
   "outputs": [],
   "source": []
  }
 ],
 "metadata": {
  "kernelspec": {
   "display_name": "venv2",
   "language": "python",
   "name": "venv2"
  },
  "language_info": {
   "codemirror_mode": {
    "name": "ipython",
    "version": 3
   },
   "file_extension": ".py",
   "mimetype": "text/x-python",
   "name": "python",
   "nbconvert_exporter": "python",
   "pygments_lexer": "ipython3",
   "version": "3.10.5"
  }
 },
 "nbformat": 4,
 "nbformat_minor": 5
}
