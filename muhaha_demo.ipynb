{
  "nbformat": 4,
  "nbformat_minor": 0,
  "metadata": {
    "colab": {
      "name": "muhaha_demo.ipynb",
      "provenance": [],
      "toc_visible": true,
      "authorship_tag": "ABX9TyODmVvNuTZvqP8LfWox8toz"
    },
    "kernelspec": {
      "name": "python3",
      "display_name": "Python 3"
    }
  },
  "cells": [
    {
      "cell_type": "code",
      "metadata": {
        "id": "9YbF7ZUDWFKK",
        "colab_type": "code",
        "outputId": "f2f5b822-95ee-4eb5-c51a-6f6a56d6222a",
        "colab": {
          "base_uri": "https://localhost:8080/",
          "height": 35
        }
      },
      "source": [
        "pip install sobol_seq"
      ],
      "execution_count": 1,
      "outputs": [
        {
          "output_type": "stream",
          "text": [
            "Requirement already satisfied: sobol_seq in /usr/local/lib/python3.6/dist-packages (0.1.2)\n"
          ],
          "name": "stdout"
        }
      ]
    },
    {
      "cell_type": "code",
      "metadata": {
        "id": "qAUSmHpUWGbf",
        "colab_type": "code",
        "colab": {}
      },
      "source": [
        "from muhaha import *"
      ],
      "execution_count": 0,
      "outputs": []
    },
    {
      "cell_type": "markdown",
      "metadata": {
        "id": "xdBuYAwxquZp",
        "colab_type": "text"
      },
      "source": [
        "This creates the random numbers that will be used for computing probabilities.  L_old is the old method, holding the quark masses fixed.  L_new allows m_up and m_down to vary as well."
      ]
    },
    {
      "cell_type": "code",
      "metadata": {
        "id": "V97le_NVWRgX",
        "colab_type": "code",
        "colab": {}
      },
      "source": [
        "E5 = make_random(10**5)\n",
        "L_old = rescale_old(E5, include_bounds=False)\n",
        "L_new = rescale_permute(E5)"
      ],
      "execution_count": 0,
      "outputs": []
    },
    {
      "cell_type": "markdown",
      "metadata": {
        "id": "ruyqZFFBcQLR",
        "colab_type": "text"
      },
      "source": [
        "**Habitability must depend on stellar properties**"
      ]
    },
    {
      "cell_type": "code",
      "metadata": {
        "id": "WZHKqZ5mWc-O",
        "colab_type": "code",
        "outputId": "1182ad9c-a32a-4475-b1aa-e983a6601ab0",
        "colab": {
          "base_uri": "https://localhost:8080/",
          "height": 79
        }
      },
      "source": [
        "compute_probs(L_old,H_S=[0],H_photo=[0])"
      ],
      "execution_count": 4,
      "outputs": [
        {
          "output_type": "execute_result",
          "data": {
            "text/html": [
              "<div>\n",
              "<style scoped>\n",
              "    .dataframe tbody tr th:only-of-type {\n",
              "        vertical-align: middle;\n",
              "    }\n",
              "\n",
              "    .dataframe tbody tr th {\n",
              "        vertical-align: top;\n",
              "    }\n",
              "\n",
              "    .dataframe thead th {\n",
              "        text-align: right;\n",
              "    }\n",
              "</style>\n",
              "<table border=\"1\" class=\"dataframe\">\n",
              "  <thead>\n",
              "    <tr style=\"text-align: right;\">\n",
              "      <th></th>\n",
              "      <th>p(alpha)</th>\n",
              "      <th>p(beta)</th>\n",
              "      <th>p(gamma)</th>\n",
              "      <th>p(delta_u)</th>\n",
              "      <th>p(delta_d)</th>\n",
              "      <th>p(lambda)</th>\n",
              "    </tr>\n",
              "  </thead>\n",
              "  <tbody>\n",
              "    <tr>\n",
              "      <th>au naturale</th>\n",
              "      <td>0.381</td>\n",
              "      <td>0.356</td>\n",
              "      <td>9.340000e-07</td>\n",
              "      <td>1</td>\n",
              "      <td>1</td>\n",
              "      <td>0.141</td>\n",
              "    </tr>\n",
              "  </tbody>\n",
              "</table>\n",
              "</div>"
            ],
            "text/plain": [
              "             p(alpha)  p(beta)      p(gamma)  p(delta_u)  p(delta_d)  p(lambda)\n",
              "au naturale     0.381    0.356  9.340000e-07           1           1      0.141"
            ]
          },
          "metadata": {
            "tags": []
          },
          "execution_count": 4
        }
      ]
    },
    {
      "cell_type": "code",
      "metadata": {
        "id": "hfIkbVEeZRFa",
        "colab_type": "code",
        "outputId": "0d84c867-0ff0-407b-fcb3-088de9008e69",
        "colab": {
          "base_uri": "https://localhost:8080/",
          "height": 79
        }
      },
      "source": [
        "compute_probs(L_new,H_S=[0],H_photo=[0])"
      ],
      "execution_count": 5,
      "outputs": [
        {
          "output_type": "execute_result",
          "data": {
            "text/html": [
              "<div>\n",
              "<style scoped>\n",
              "    .dataframe tbody tr th:only-of-type {\n",
              "        vertical-align: middle;\n",
              "    }\n",
              "\n",
              "    .dataframe tbody tr th {\n",
              "        vertical-align: top;\n",
              "    }\n",
              "\n",
              "    .dataframe thead th {\n",
              "        text-align: right;\n",
              "    }\n",
              "</style>\n",
              "<table border=\"1\" class=\"dataframe\">\n",
              "  <thead>\n",
              "    <tr style=\"text-align: right;\">\n",
              "      <th></th>\n",
              "      <th>p(alpha)</th>\n",
              "      <th>p(beta)</th>\n",
              "      <th>p(gamma)</th>\n",
              "      <th>p(delta_u)</th>\n",
              "      <th>p(delta_d)</th>\n",
              "      <th>p(lambda)</th>\n",
              "    </tr>\n",
              "  </thead>\n",
              "  <tbody>\n",
              "    <tr>\n",
              "      <th>au naturale</th>\n",
              "      <td>0.164</td>\n",
              "      <td>0.397</td>\n",
              "      <td>4.460000e-07</td>\n",
              "      <td>0.0526</td>\n",
              "      <td>0.239</td>\n",
              "      <td>0.142</td>\n",
              "    </tr>\n",
              "  </tbody>\n",
              "</table>\n",
              "</div>"
            ],
            "text/plain": [
              "             p(alpha)  p(beta)      p(gamma)  p(delta_u)  p(delta_d)  p(lambda)\n",
              "au naturale     0.164    0.397  4.460000e-07      0.0526       0.239      0.142"
            ]
          },
          "metadata": {
            "tags": []
          },
          "execution_count": 5
        }
      ]
    },
    {
      "cell_type": "markdown",
      "metadata": {
        "id": "DXKXMzbccRe3",
        "colab_type": "text"
      },
      "source": [
        "**Older stars are not more habitable**"
      ]
    },
    {
      "cell_type": "code",
      "metadata": {
        "id": "s_3uysEQaSPJ",
        "colab_type": "code",
        "outputId": "852d7215-f871-4c25-8ba8-95b17a8bbe64",
        "colab": {
          "base_uri": "https://localhost:8080/",
          "height": 79
        }
      },
      "source": [
        "compute_probs(L_old,H_S=[0],H_photo=[0],H_time=[1])"
      ],
      "execution_count": 6,
      "outputs": [
        {
          "output_type": "execute_result",
          "data": {
            "text/html": [
              "<div>\n",
              "<style scoped>\n",
              "    .dataframe tbody tr th:only-of-type {\n",
              "        vertical-align: middle;\n",
              "    }\n",
              "\n",
              "    .dataframe tbody tr th {\n",
              "        vertical-align: top;\n",
              "    }\n",
              "\n",
              "    .dataframe thead th {\n",
              "        text-align: right;\n",
              "    }\n",
              "</style>\n",
              "<table border=\"1\" class=\"dataframe\">\n",
              "  <thead>\n",
              "    <tr style=\"text-align: right;\">\n",
              "      <th></th>\n",
              "      <th>p(alpha)</th>\n",
              "      <th>p(beta)</th>\n",
              "      <th>p(gamma)</th>\n",
              "      <th>p(delta_u)</th>\n",
              "      <th>p(delta_d)</th>\n",
              "      <th>p(lambda)</th>\n",
              "    </tr>\n",
              "  </thead>\n",
              "  <tbody>\n",
              "    <tr>\n",
              "      <th>time</th>\n",
              "      <td>0.272</td>\n",
              "      <td>0.158</td>\n",
              "      <td>0.00754</td>\n",
              "      <td>1</td>\n",
              "      <td>1</td>\n",
              "      <td>0.000436</td>\n",
              "    </tr>\n",
              "  </tbody>\n",
              "</table>\n",
              "</div>"
            ],
            "text/plain": [
              "       p(alpha)  p(beta)  p(gamma)  p(delta_u)  p(delta_d)  p(lambda)\n",
              " time     0.272    0.158   0.00754           1           1   0.000436"
            ]
          },
          "metadata": {
            "tags": []
          },
          "execution_count": 6
        }
      ]
    },
    {
      "cell_type": "code",
      "metadata": {
        "id": "t04kM0gsXEuf",
        "colab_type": "code",
        "outputId": "ab2d0543-94dd-4ae9-a380-48c2db8f8b62",
        "colab": {
          "base_uri": "https://localhost:8080/",
          "height": 79
        }
      },
      "source": [
        "compute_probs(L_new,H_S=[0],H_photo=[0],H_time=[1])"
      ],
      "execution_count": 7,
      "outputs": [
        {
          "output_type": "execute_result",
          "data": {
            "text/html": [
              "<div>\n",
              "<style scoped>\n",
              "    .dataframe tbody tr th:only-of-type {\n",
              "        vertical-align: middle;\n",
              "    }\n",
              "\n",
              "    .dataframe tbody tr th {\n",
              "        vertical-align: top;\n",
              "    }\n",
              "\n",
              "    .dataframe thead th {\n",
              "        text-align: right;\n",
              "    }\n",
              "</style>\n",
              "<table border=\"1\" class=\"dataframe\">\n",
              "  <thead>\n",
              "    <tr style=\"text-align: right;\">\n",
              "      <th></th>\n",
              "      <th>p(alpha)</th>\n",
              "      <th>p(beta)</th>\n",
              "      <th>p(gamma)</th>\n",
              "      <th>p(delta_u)</th>\n",
              "      <th>p(delta_d)</th>\n",
              "      <th>p(lambda)</th>\n",
              "    </tr>\n",
              "  </thead>\n",
              "  <tbody>\n",
              "    <tr>\n",
              "      <th>time</th>\n",
              "      <td>0.259</td>\n",
              "      <td>0.249</td>\n",
              "      <td>0.00546</td>\n",
              "      <td>0.0607</td>\n",
              "      <td>0.339</td>\n",
              "      <td>0.000438</td>\n",
              "    </tr>\n",
              "  </tbody>\n",
              "</table>\n",
              "</div>"
            ],
            "text/plain": [
              "       p(alpha)  p(beta)  p(gamma)  p(delta_u)  p(delta_d)  p(lambda)\n",
              " time     0.259    0.249   0.00546      0.0607       0.339   0.000438"
            ]
          },
          "metadata": {
            "tags": []
          },
          "execution_count": 7
        }
      ]
    },
    {
      "cell_type": "markdown",
      "metadata": {
        "id": "GNON9EXGcSkY",
        "colab_type": "text"
      },
      "source": [
        "**Habitability is proportional to total entropy production**"
      ]
    },
    {
      "cell_type": "code",
      "metadata": {
        "id": "53s0G157aWZq",
        "colab_type": "code",
        "outputId": "4c9503db-eb33-45ce-fdf2-d487520da544",
        "colab": {
          "base_uri": "https://localhost:8080/",
          "height": 110
        }
      },
      "source": [
        "compute_probs(L_old)"
      ],
      "execution_count": 8,
      "outputs": [
        {
          "output_type": "execute_result",
          "data": {
            "text/html": [
              "<div>\n",
              "<style scoped>\n",
              "    .dataframe tbody tr th:only-of-type {\n",
              "        vertical-align: middle;\n",
              "    }\n",
              "\n",
              "    .dataframe tbody tr th {\n",
              "        vertical-align: top;\n",
              "    }\n",
              "\n",
              "    .dataframe thead th {\n",
              "        text-align: right;\n",
              "    }\n",
              "</style>\n",
              "<table border=\"1\" class=\"dataframe\">\n",
              "  <thead>\n",
              "    <tr style=\"text-align: right;\">\n",
              "      <th></th>\n",
              "      <th>p(alpha)</th>\n",
              "      <th>p(beta)</th>\n",
              "      <th>p(gamma)</th>\n",
              "      <th>p(delta_u)</th>\n",
              "      <th>p(delta_d)</th>\n",
              "      <th>p(lambda)</th>\n",
              "    </tr>\n",
              "  </thead>\n",
              "  <tbody>\n",
              "    <tr>\n",
              "      <th>yellow</th>\n",
              "      <td>0.484</td>\n",
              "      <td>0.163</td>\n",
              "      <td>5.890000e-07</td>\n",
              "      <td>1</td>\n",
              "      <td>1</td>\n",
              "      <td>0.585</td>\n",
              "    </tr>\n",
              "    <tr>\n",
              "      <th>yellow S</th>\n",
              "      <td>0.157</td>\n",
              "      <td>0.488</td>\n",
              "      <td>3.420000e-01</td>\n",
              "      <td>1</td>\n",
              "      <td>1</td>\n",
              "      <td>0.424</td>\n",
              "    </tr>\n",
              "  </tbody>\n",
              "</table>\n",
              "</div>"
            ],
            "text/plain": [
              "          p(alpha)  p(beta)      p(gamma)  p(delta_u)  p(delta_d)  p(lambda)\n",
              "yellow       0.484    0.163  5.890000e-07           1           1      0.585\n",
              "yellow S     0.157    0.488  3.420000e-01           1           1      0.424"
            ]
          },
          "metadata": {
            "tags": []
          },
          "execution_count": 8
        }
      ]
    },
    {
      "cell_type": "code",
      "metadata": {
        "id": "cw8iRDH-Yi61",
        "colab_type": "code",
        "outputId": "8e8e407a-f482-41a7-c017-66942ff61e57",
        "colab": {
          "base_uri": "https://localhost:8080/",
          "height": 110
        }
      },
      "source": [
        "compute_probs(L_new)"
      ],
      "execution_count": 9,
      "outputs": [
        {
          "output_type": "execute_result",
          "data": {
            "text/html": [
              "<div>\n",
              "<style scoped>\n",
              "    .dataframe tbody tr th:only-of-type {\n",
              "        vertical-align: middle;\n",
              "    }\n",
              "\n",
              "    .dataframe tbody tr th {\n",
              "        vertical-align: top;\n",
              "    }\n",
              "\n",
              "    .dataframe thead th {\n",
              "        text-align: right;\n",
              "    }\n",
              "</style>\n",
              "<table border=\"1\" class=\"dataframe\">\n",
              "  <thead>\n",
              "    <tr style=\"text-align: right;\">\n",
              "      <th></th>\n",
              "      <th>p(alpha)</th>\n",
              "      <th>p(beta)</th>\n",
              "      <th>p(gamma)</th>\n",
              "      <th>p(delta_u)</th>\n",
              "      <th>p(delta_d)</th>\n",
              "      <th>p(lambda)</th>\n",
              "    </tr>\n",
              "  </thead>\n",
              "  <tbody>\n",
              "    <tr>\n",
              "      <th>yellow</th>\n",
              "      <td>0.119</td>\n",
              "      <td>0.398</td>\n",
              "      <td>3.500000e-07</td>\n",
              "      <td>0.0238</td>\n",
              "      <td>0.209</td>\n",
              "      <td>0.588</td>\n",
              "    </tr>\n",
              "    <tr>\n",
              "      <th>yellow S</th>\n",
              "      <td>0.423</td>\n",
              "      <td>0.273</td>\n",
              "      <td>2.340000e-01</td>\n",
              "      <td>0.1670</td>\n",
              "      <td>0.494</td>\n",
              "      <td>0.428</td>\n",
              "    </tr>\n",
              "  </tbody>\n",
              "</table>\n",
              "</div>"
            ],
            "text/plain": [
              "          p(alpha)  p(beta)      p(gamma)  p(delta_u)  p(delta_d)  p(lambda)\n",
              "yellow       0.119    0.398  3.500000e-07      0.0238       0.209      0.588\n",
              "yellow S     0.423    0.273  2.340000e-01      0.1670       0.494      0.428"
            ]
          },
          "metadata": {
            "tags": []
          },
          "execution_count": 9
        }
      ]
    },
    {
      "cell_type": "markdown",
      "metadata": {
        "id": "NOhC0SP4cTXL",
        "colab_type": "text"
      },
      "source": [
        "**Photosynthesis is necessary for complex life**"
      ]
    },
    {
      "cell_type": "code",
      "metadata": {
        "id": "JZmk_gARapEN",
        "colab_type": "code",
        "outputId": "5a49af76-e7b3-4cd9-b36a-19275f5cac07",
        "colab": {
          "base_uri": "https://localhost:8080/",
          "height": 233
        }
      },
      "source": [
        "compute_probs(L_old, H_photo = [0,1,2])"
      ],
      "execution_count": 10,
      "outputs": [
        {
          "output_type": "execute_result",
          "data": {
            "text/html": [
              "<div>\n",
              "<style scoped>\n",
              "    .dataframe tbody tr th:only-of-type {\n",
              "        vertical-align: middle;\n",
              "    }\n",
              "\n",
              "    .dataframe tbody tr th {\n",
              "        vertical-align: top;\n",
              "    }\n",
              "\n",
              "    .dataframe thead th {\n",
              "        text-align: right;\n",
              "    }\n",
              "</style>\n",
              "<table border=\"1\" class=\"dataframe\">\n",
              "  <thead>\n",
              "    <tr style=\"text-align: right;\">\n",
              "      <th></th>\n",
              "      <th>p(alpha)</th>\n",
              "      <th>p(beta)</th>\n",
              "      <th>p(gamma)</th>\n",
              "      <th>p(delta_u)</th>\n",
              "      <th>p(delta_d)</th>\n",
              "      <th>p(lambda)</th>\n",
              "    </tr>\n",
              "  </thead>\n",
              "  <tbody>\n",
              "    <tr>\n",
              "      <th>au naturale</th>\n",
              "      <td>0.3810</td>\n",
              "      <td>0.3560</td>\n",
              "      <td>9.340000e-07</td>\n",
              "      <td>1</td>\n",
              "      <td>1</td>\n",
              "      <td>0.141000</td>\n",
              "    </tr>\n",
              "    <tr>\n",
              "      <th>S</th>\n",
              "      <td>0.0791</td>\n",
              "      <td>0.0172</td>\n",
              "      <td>5.960000e-02</td>\n",
              "      <td>1</td>\n",
              "      <td>1</td>\n",
              "      <td>0.000131</td>\n",
              "    </tr>\n",
              "    <tr>\n",
              "      <th>photo</th>\n",
              "      <td>0.4400</td>\n",
              "      <td>0.1830</td>\n",
              "      <td>8.150000e-07</td>\n",
              "      <td>1</td>\n",
              "      <td>1</td>\n",
              "      <td>0.308000</td>\n",
              "    </tr>\n",
              "    <tr>\n",
              "      <th>photo S</th>\n",
              "      <td>0.2410</td>\n",
              "      <td>0.4010</td>\n",
              "      <td>3.830000e-01</td>\n",
              "      <td>1</td>\n",
              "      <td>1</td>\n",
              "      <td>0.024000</td>\n",
              "    </tr>\n",
              "    <tr>\n",
              "      <th>yellow</th>\n",
              "      <td>0.4840</td>\n",
              "      <td>0.1630</td>\n",
              "      <td>5.890000e-07</td>\n",
              "      <td>1</td>\n",
              "      <td>1</td>\n",
              "      <td>0.585000</td>\n",
              "    </tr>\n",
              "    <tr>\n",
              "      <th>yellow S</th>\n",
              "      <td>0.1570</td>\n",
              "      <td>0.4880</td>\n",
              "      <td>3.420000e-01</td>\n",
              "      <td>1</td>\n",
              "      <td>1</td>\n",
              "      <td>0.424000</td>\n",
              "    </tr>\n",
              "  </tbody>\n",
              "</table>\n",
              "</div>"
            ],
            "text/plain": [
              "             p(alpha)  p(beta)      p(gamma)  p(delta_u)  p(delta_d)  p(lambda)\n",
              "au naturale    0.3810   0.3560  9.340000e-07           1           1   0.141000\n",
              " S             0.0791   0.0172  5.960000e-02           1           1   0.000131\n",
              " photo         0.4400   0.1830  8.150000e-07           1           1   0.308000\n",
              " photo S       0.2410   0.4010  3.830000e-01           1           1   0.024000\n",
              "yellow         0.4840   0.1630  5.890000e-07           1           1   0.585000\n",
              "yellow S       0.1570   0.4880  3.420000e-01           1           1   0.424000"
            ]
          },
          "metadata": {
            "tags": []
          },
          "execution_count": 10
        }
      ]
    },
    {
      "cell_type": "code",
      "metadata": {
        "id": "nDb2xiXBYwCl",
        "colab_type": "code",
        "outputId": "9fbddfb6-a048-42d5-aed4-b45b7c189f61",
        "colab": {
          "base_uri": "https://localhost:8080/",
          "height": 233
        }
      },
      "source": [
        "compute_probs(L_new, H_photo = [0,1,2])"
      ],
      "execution_count": 11,
      "outputs": [
        {
          "output_type": "execute_result",
          "data": {
            "text/html": [
              "<div>\n",
              "<style scoped>\n",
              "    .dataframe tbody tr th:only-of-type {\n",
              "        vertical-align: middle;\n",
              "    }\n",
              "\n",
              "    .dataframe tbody tr th {\n",
              "        vertical-align: top;\n",
              "    }\n",
              "\n",
              "    .dataframe thead th {\n",
              "        text-align: right;\n",
              "    }\n",
              "</style>\n",
              "<table border=\"1\" class=\"dataframe\">\n",
              "  <thead>\n",
              "    <tr style=\"text-align: right;\">\n",
              "      <th></th>\n",
              "      <th>p(alpha)</th>\n",
              "      <th>p(beta)</th>\n",
              "      <th>p(gamma)</th>\n",
              "      <th>p(delta_u)</th>\n",
              "      <th>p(delta_d)</th>\n",
              "      <th>p(lambda)</th>\n",
              "    </tr>\n",
              "  </thead>\n",
              "  <tbody>\n",
              "    <tr>\n",
              "      <th>au naturale</th>\n",
              "      <td>0.16400</td>\n",
              "      <td>0.3970</td>\n",
              "      <td>4.460000e-07</td>\n",
              "      <td>0.05260</td>\n",
              "      <td>0.2390</td>\n",
              "      <td>0.142000</td>\n",
              "    </tr>\n",
              "    <tr>\n",
              "      <th>S</th>\n",
              "      <td>0.00314</td>\n",
              "      <td>0.0455</td>\n",
              "      <td>1.120000e-01</td>\n",
              "      <td>0.00027</td>\n",
              "      <td>0.0254</td>\n",
              "      <td>0.000132</td>\n",
              "    </tr>\n",
              "    <tr>\n",
              "      <th>photo</th>\n",
              "      <td>0.14700</td>\n",
              "      <td>0.3980</td>\n",
              "      <td>3.350000e-07</td>\n",
              "      <td>0.03300</td>\n",
              "      <td>0.2380</td>\n",
              "      <td>0.309000</td>\n",
              "    </tr>\n",
              "    <tr>\n",
              "      <th>photo S</th>\n",
              "      <td>0.35500</td>\n",
              "      <td>0.3070</td>\n",
              "      <td>2.500000e-01</td>\n",
              "      <td>0.12000</td>\n",
              "      <td>0.4290</td>\n",
              "      <td>0.024200</td>\n",
              "    </tr>\n",
              "    <tr>\n",
              "      <th>yellow</th>\n",
              "      <td>0.11900</td>\n",
              "      <td>0.3980</td>\n",
              "      <td>3.500000e-07</td>\n",
              "      <td>0.02380</td>\n",
              "      <td>0.2090</td>\n",
              "      <td>0.588000</td>\n",
              "    </tr>\n",
              "    <tr>\n",
              "      <th>yellow S</th>\n",
              "      <td>0.42300</td>\n",
              "      <td>0.2730</td>\n",
              "      <td>2.340000e-01</td>\n",
              "      <td>0.16700</td>\n",
              "      <td>0.4940</td>\n",
              "      <td>0.428000</td>\n",
              "    </tr>\n",
              "  </tbody>\n",
              "</table>\n",
              "</div>"
            ],
            "text/plain": [
              "             p(alpha)  p(beta)      p(gamma)  p(delta_u)  p(delta_d)  p(lambda)\n",
              "au naturale   0.16400   0.3970  4.460000e-07     0.05260      0.2390   0.142000\n",
              " S            0.00314   0.0455  1.120000e-01     0.00027      0.0254   0.000132\n",
              " photo        0.14700   0.3980  3.350000e-07     0.03300      0.2380   0.309000\n",
              " photo S      0.35500   0.3070  2.500000e-01     0.12000      0.4290   0.024200\n",
              "yellow        0.11900   0.3980  3.500000e-07     0.02380      0.2090   0.588000\n",
              "yellow S      0.42300   0.2730  2.340000e-01     0.16700      0.4940   0.428000"
            ]
          },
          "metadata": {
            "tags": []
          },
          "execution_count": 11
        }
      ]
    },
    {
      "cell_type": "markdown",
      "metadata": {
        "id": "5W7j2_tWcUNe",
        "colab_type": "text"
      },
      "source": [
        "**No strong predictions for planet frequency, size, or orbit**\n",
        "\n"
      ]
    },
    {
      "cell_type": "code",
      "metadata": {
        "id": "bRfOyTK9au9v",
        "colab_type": "code",
        "outputId": "c753ffa7-2549-4b7f-fb98-f245cb9aee79",
        "colab": {
          "base_uri": "https://localhost:8080/",
          "height": 233
        }
      },
      "source": [
        "compute_probs(L_old, H_S=[1], H_temp=[0,1], H_terr=[0,1,2])"
      ],
      "execution_count": 12,
      "outputs": [
        {
          "output_type": "execute_result",
          "data": {
            "text/html": [
              "<div>\n",
              "<style scoped>\n",
              "    .dataframe tbody tr th:only-of-type {\n",
              "        vertical-align: middle;\n",
              "    }\n",
              "\n",
              "    .dataframe tbody tr th {\n",
              "        vertical-align: top;\n",
              "    }\n",
              "\n",
              "    .dataframe thead th {\n",
              "        text-align: right;\n",
              "    }\n",
              "</style>\n",
              "<table border=\"1\" class=\"dataframe\">\n",
              "  <thead>\n",
              "    <tr style=\"text-align: right;\">\n",
              "      <th></th>\n",
              "      <th>p(alpha)</th>\n",
              "      <th>p(beta)</th>\n",
              "      <th>p(gamma)</th>\n",
              "      <th>p(delta_u)</th>\n",
              "      <th>p(delta_d)</th>\n",
              "      <th>p(lambda)</th>\n",
              "    </tr>\n",
              "  </thead>\n",
              "  <tbody>\n",
              "    <tr>\n",
              "      <th>yellow S</th>\n",
              "      <td>0.157</td>\n",
              "      <td>0.4880</td>\n",
              "      <td>0.342</td>\n",
              "      <td>1</td>\n",
              "      <td>1</td>\n",
              "      <td>0.424</td>\n",
              "    </tr>\n",
              "    <tr>\n",
              "      <th>yellow temp S</th>\n",
              "      <td>0.222</td>\n",
              "      <td>0.3790</td>\n",
              "      <td>0.162</td>\n",
              "      <td>1</td>\n",
              "      <td>1</td>\n",
              "      <td>0.338</td>\n",
              "    </tr>\n",
              "    <tr>\n",
              "      <th>yellow  GI S</th>\n",
              "      <td>0.206</td>\n",
              "      <td>0.0489</td>\n",
              "      <td>0.376</td>\n",
              "      <td>1</td>\n",
              "      <td>1</td>\n",
              "      <td>0.306</td>\n",
              "    </tr>\n",
              "    <tr>\n",
              "      <th>yellow  GI temp S</th>\n",
              "      <td>0.371</td>\n",
              "      <td>0.0644</td>\n",
              "      <td>0.428</td>\n",
              "      <td>1</td>\n",
              "      <td>1</td>\n",
              "      <td>0.241</td>\n",
              "    </tr>\n",
              "    <tr>\n",
              "      <th>yellow  iso S</th>\n",
              "      <td>0.184</td>\n",
              "      <td>0.3210</td>\n",
              "      <td>0.499</td>\n",
              "      <td>1</td>\n",
              "      <td>1</td>\n",
              "      <td>0.452</td>\n",
              "    </tr>\n",
              "    <tr>\n",
              "      <th>yellow  iso temp S</th>\n",
              "      <td>0.278</td>\n",
              "      <td>0.4300</td>\n",
              "      <td>0.286</td>\n",
              "      <td>1</td>\n",
              "      <td>1</td>\n",
              "      <td>0.362</td>\n",
              "    </tr>\n",
              "  </tbody>\n",
              "</table>\n",
              "</div>"
            ],
            "text/plain": [
              "                    p(alpha)  p(beta)  ...  p(delta_d)  p(lambda)\n",
              "yellow S               0.157   0.4880  ...           1      0.424\n",
              "yellow temp S          0.222   0.3790  ...           1      0.338\n",
              "yellow  GI S           0.206   0.0489  ...           1      0.306\n",
              "yellow  GI temp S      0.371   0.0644  ...           1      0.241\n",
              "yellow  iso S          0.184   0.3210  ...           1      0.452\n",
              "yellow  iso temp S     0.278   0.4300  ...           1      0.362\n",
              "\n",
              "[6 rows x 6 columns]"
            ]
          },
          "metadata": {
            "tags": []
          },
          "execution_count": 12
        }
      ]
    },
    {
      "cell_type": "code",
      "metadata": {
        "id": "BMdQzI4nZho-",
        "colab_type": "code",
        "outputId": "5a24b138-a285-4b92-cc40-f1736049b34f",
        "colab": {
          "base_uri": "https://localhost:8080/",
          "height": 233
        }
      },
      "source": [
        "compute_probs(L_new, H_S=[1], H_temp=[0,1], H_terr=[0,1,2])"
      ],
      "execution_count": 13,
      "outputs": [
        {
          "output_type": "execute_result",
          "data": {
            "text/html": [
              "<div>\n",
              "<style scoped>\n",
              "    .dataframe tbody tr th:only-of-type {\n",
              "        vertical-align: middle;\n",
              "    }\n",
              "\n",
              "    .dataframe tbody tr th {\n",
              "        vertical-align: top;\n",
              "    }\n",
              "\n",
              "    .dataframe thead th {\n",
              "        text-align: right;\n",
              "    }\n",
              "</style>\n",
              "<table border=\"1\" class=\"dataframe\">\n",
              "  <thead>\n",
              "    <tr style=\"text-align: right;\">\n",
              "      <th></th>\n",
              "      <th>p(alpha)</th>\n",
              "      <th>p(beta)</th>\n",
              "      <th>p(gamma)</th>\n",
              "      <th>p(delta_u)</th>\n",
              "      <th>p(delta_d)</th>\n",
              "      <th>p(lambda)</th>\n",
              "    </tr>\n",
              "  </thead>\n",
              "  <tbody>\n",
              "    <tr>\n",
              "      <th>yellow S</th>\n",
              "      <td>0.423</td>\n",
              "      <td>0.2730</td>\n",
              "      <td>0.2340</td>\n",
              "      <td>0.1670</td>\n",
              "      <td>0.494</td>\n",
              "      <td>0.428</td>\n",
              "    </tr>\n",
              "    <tr>\n",
              "      <th>yellow temp S</th>\n",
              "      <td>0.328</td>\n",
              "      <td>0.2830</td>\n",
              "      <td>0.0990</td>\n",
              "      <td>0.1140</td>\n",
              "      <td>0.408</td>\n",
              "      <td>0.341</td>\n",
              "    </tr>\n",
              "    <tr>\n",
              "      <th>yellow  GI S</th>\n",
              "      <td>0.349</td>\n",
              "      <td>0.0810</td>\n",
              "      <td>0.2510</td>\n",
              "      <td>0.1860</td>\n",
              "      <td>0.422</td>\n",
              "      <td>0.309</td>\n",
              "    </tr>\n",
              "    <tr>\n",
              "      <th>yellow  GI temp S</th>\n",
              "      <td>0.151</td>\n",
              "      <td>0.0537</td>\n",
              "      <td>0.0976</td>\n",
              "      <td>0.0873</td>\n",
              "      <td>0.218</td>\n",
              "      <td>0.244</td>\n",
              "    </tr>\n",
              "    <tr>\n",
              "      <th>yellow  iso S</th>\n",
              "      <td>0.340</td>\n",
              "      <td>0.1710</td>\n",
              "      <td>0.2110</td>\n",
              "      <td>0.1620</td>\n",
              "      <td>0.406</td>\n",
              "      <td>0.455</td>\n",
              "    </tr>\n",
              "    <tr>\n",
              "      <th>yellow  iso temp S</th>\n",
              "      <td>0.216</td>\n",
              "      <td>0.1610</td>\n",
              "      <td>0.0892</td>\n",
              "      <td>0.0954</td>\n",
              "      <td>0.288</td>\n",
              "      <td>0.366</td>\n",
              "    </tr>\n",
              "  </tbody>\n",
              "</table>\n",
              "</div>"
            ],
            "text/plain": [
              "                    p(alpha)  p(beta)  ...  p(delta_d)  p(lambda)\n",
              "yellow S               0.423   0.2730  ...       0.494      0.428\n",
              "yellow temp S          0.328   0.2830  ...       0.408      0.341\n",
              "yellow  GI S           0.349   0.0810  ...       0.422      0.309\n",
              "yellow  GI temp S      0.151   0.0537  ...       0.218      0.244\n",
              "yellow  iso S          0.340   0.1710  ...       0.406      0.455\n",
              "yellow  iso temp S     0.216   0.1610  ...       0.288      0.366\n",
              "\n",
              "[6 rows x 6 columns]"
            ]
          },
          "metadata": {
            "tags": []
          },
          "execution_count": 13
        }
      ]
    },
    {
      "cell_type": "markdown",
      "metadata": {
        "id": "B63CyC6tb3Nd",
        "colab_type": "text"
      },
      "source": [
        "**Superearths are not superhabitable**"
      ]
    },
    {
      "cell_type": "code",
      "metadata": {
        "id": "tuwBmMRFa-cl",
        "colab_type": "code",
        "outputId": "30032b55-b37f-4c7b-9efa-1a3a0d815e91",
        "colab": {
          "base_uri": "https://localhost:8080/",
          "height": 294
        }
      },
      "source": [
        "compute_probs(L_old, H_area=[1], H_S=[0,1], H_temp=[0,1], H_terr=[0,1], min_prob=.02)"
      ],
      "execution_count": 14,
      "outputs": [
        {
          "output_type": "execute_result",
          "data": {
            "text/html": [
              "<div>\n",
              "<style scoped>\n",
              "    .dataframe tbody tr th:only-of-type {\n",
              "        vertical-align: middle;\n",
              "    }\n",
              "\n",
              "    .dataframe tbody tr th {\n",
              "        vertical-align: top;\n",
              "    }\n",
              "\n",
              "    .dataframe thead th {\n",
              "        text-align: right;\n",
              "    }\n",
              "</style>\n",
              "<table border=\"1\" class=\"dataframe\">\n",
              "  <thead>\n",
              "    <tr style=\"text-align: right;\">\n",
              "      <th></th>\n",
              "      <th>p(alpha)</th>\n",
              "      <th>p(beta)</th>\n",
              "      <th>p(gamma)</th>\n",
              "      <th>p(delta_u)</th>\n",
              "      <th>p(delta_d)</th>\n",
              "      <th>p(lambda)</th>\n",
              "    </tr>\n",
              "  </thead>\n",
              "  <tbody>\n",
              "    <tr>\n",
              "      <th>yellow area</th>\n",
              "      <td>0.454000</td>\n",
              "      <td>0.38700</td>\n",
              "      <td>0.14700</td>\n",
              "      <td>1</td>\n",
              "      <td>1</td>\n",
              "      <td>0.585</td>\n",
              "    </tr>\n",
              "    <tr>\n",
              "      <th>yellow area S</th>\n",
              "      <td>0.021800</td>\n",
              "      <td>0.02670</td>\n",
              "      <td>0.00209</td>\n",
              "      <td>1</td>\n",
              "      <td>1</td>\n",
              "      <td>0.424</td>\n",
              "    </tr>\n",
              "    <tr>\n",
              "      <th>yellow temp area</th>\n",
              "      <td>0.466000</td>\n",
              "      <td>0.31200</td>\n",
              "      <td>0.05920</td>\n",
              "      <td>1</td>\n",
              "      <td>1</td>\n",
              "      <td>0.488</td>\n",
              "    </tr>\n",
              "    <tr>\n",
              "      <th>yellow temp area S</th>\n",
              "      <td>0.026500</td>\n",
              "      <td>0.03260</td>\n",
              "      <td>0.00344</td>\n",
              "      <td>1</td>\n",
              "      <td>1</td>\n",
              "      <td>0.338</td>\n",
              "    </tr>\n",
              "    <tr>\n",
              "      <th>yellow  GI area</th>\n",
              "      <td>0.437000</td>\n",
              "      <td>0.30800</td>\n",
              "      <td>0.24000</td>\n",
              "      <td>1</td>\n",
              "      <td>1</td>\n",
              "      <td>0.440</td>\n",
              "    </tr>\n",
              "    <tr>\n",
              "      <th>yellow  GI area S</th>\n",
              "      <td>0.000607</td>\n",
              "      <td>0.00104</td>\n",
              "      <td>0.00541</td>\n",
              "      <td>1</td>\n",
              "      <td>1</td>\n",
              "      <td>0.306</td>\n",
              "    </tr>\n",
              "    <tr>\n",
              "      <th>yellow  GI temp area</th>\n",
              "      <td>0.297000</td>\n",
              "      <td>0.33600</td>\n",
              "      <td>0.13100</td>\n",
              "      <td>1</td>\n",
              "      <td>1</td>\n",
              "      <td>0.357</td>\n",
              "    </tr>\n",
              "    <tr>\n",
              "      <th>yellow  GI temp area S</th>\n",
              "      <td>0.001290</td>\n",
              "      <td>0.00158</td>\n",
              "      <td>0.00962</td>\n",
              "      <td>1</td>\n",
              "      <td>1</td>\n",
              "      <td>0.241</td>\n",
              "    </tr>\n",
              "  </tbody>\n",
              "</table>\n",
              "</div>"
            ],
            "text/plain": [
              "                        p(alpha)  p(beta)  ...  p(delta_d)  p(lambda)\n",
              "yellow area             0.454000  0.38700  ...           1      0.585\n",
              "yellow area S           0.021800  0.02670  ...           1      0.424\n",
              "yellow temp area        0.466000  0.31200  ...           1      0.488\n",
              "yellow temp area S      0.026500  0.03260  ...           1      0.338\n",
              "yellow  GI area         0.437000  0.30800  ...           1      0.440\n",
              "yellow  GI area S       0.000607  0.00104  ...           1      0.306\n",
              "yellow  GI temp area    0.297000  0.33600  ...           1      0.357\n",
              "yellow  GI temp area S  0.001290  0.00158  ...           1      0.241\n",
              "\n",
              "[8 rows x 6 columns]"
            ]
          },
          "metadata": {
            "tags": []
          },
          "execution_count": 14
        }
      ]
    },
    {
      "cell_type": "code",
      "metadata": {
        "id": "SLVmktFTZ5Sn",
        "colab_type": "code",
        "outputId": "94215dbf-7756-4e36-dbbd-34c7d77f0b0f",
        "colab": {
          "base_uri": "https://localhost:8080/",
          "height": 294
        }
      },
      "source": [
        "compute_probs(L_new, H_area=[1], H_S=[0,1], H_temp=[0,1], H_terr=[0,1], min_prob=.02)"
      ],
      "execution_count": 15,
      "outputs": [
        {
          "output_type": "execute_result",
          "data": {
            "text/html": [
              "<div>\n",
              "<style scoped>\n",
              "    .dataframe tbody tr th:only-of-type {\n",
              "        vertical-align: middle;\n",
              "    }\n",
              "\n",
              "    .dataframe tbody tr th {\n",
              "        vertical-align: top;\n",
              "    }\n",
              "\n",
              "    .dataframe thead th {\n",
              "        text-align: right;\n",
              "    }\n",
              "</style>\n",
              "<table border=\"1\" class=\"dataframe\">\n",
              "  <thead>\n",
              "    <tr style=\"text-align: right;\">\n",
              "      <th></th>\n",
              "      <th>p(alpha)</th>\n",
              "      <th>p(beta)</th>\n",
              "      <th>p(gamma)</th>\n",
              "      <th>p(delta_u)</th>\n",
              "      <th>p(delta_d)</th>\n",
              "      <th>p(lambda)</th>\n",
              "    </tr>\n",
              "  </thead>\n",
              "  <tbody>\n",
              "    <tr>\n",
              "      <th>yellow area</th>\n",
              "      <td>0.09680</td>\n",
              "      <td>0.2690</td>\n",
              "      <td>0.07740</td>\n",
              "      <td>0.0379</td>\n",
              "      <td>0.1680</td>\n",
              "      <td>0.588</td>\n",
              "    </tr>\n",
              "    <tr>\n",
              "      <th>yellow area S</th>\n",
              "      <td>0.21200</td>\n",
              "      <td>0.0180</td>\n",
              "      <td>0.00599</td>\n",
              "      <td>0.2470</td>\n",
              "      <td>0.3490</td>\n",
              "      <td>0.428</td>\n",
              "    </tr>\n",
              "    <tr>\n",
              "      <th>yellow temp area</th>\n",
              "      <td>0.06760</td>\n",
              "      <td>0.2820</td>\n",
              "      <td>0.02670</td>\n",
              "      <td>0.0239</td>\n",
              "      <td>0.1330</td>\n",
              "      <td>0.491</td>\n",
              "    </tr>\n",
              "    <tr>\n",
              "      <th>yellow temp area S</th>\n",
              "      <td>0.22000</td>\n",
              "      <td>0.0198</td>\n",
              "      <td>0.00987</td>\n",
              "      <td>0.2370</td>\n",
              "      <td>0.3560</td>\n",
              "      <td>0.341</td>\n",
              "    </tr>\n",
              "    <tr>\n",
              "      <th>yellow  GI area</th>\n",
              "      <td>0.07430</td>\n",
              "      <td>0.2260</td>\n",
              "      <td>0.04380</td>\n",
              "      <td>0.0330</td>\n",
              "      <td>0.1330</td>\n",
              "      <td>0.443</td>\n",
              "    </tr>\n",
              "    <tr>\n",
              "      <th>yellow  GI area S</th>\n",
              "      <td>0.00529</td>\n",
              "      <td>0.0579</td>\n",
              "      <td>0.01160</td>\n",
              "      <td>0.2200</td>\n",
              "      <td>0.0218</td>\n",
              "      <td>0.309</td>\n",
              "    </tr>\n",
              "    <tr>\n",
              "      <th>yellow  GI temp area</th>\n",
              "      <td>0.02490</td>\n",
              "      <td>0.1890</td>\n",
              "      <td>0.01260</td>\n",
              "      <td>0.0150</td>\n",
              "      <td>0.0646</td>\n",
              "      <td>0.360</td>\n",
              "    </tr>\n",
              "    <tr>\n",
              "      <th>yellow  GI temp area S</th>\n",
              "      <td>0.00946</td>\n",
              "      <td>0.0533</td>\n",
              "      <td>0.01820</td>\n",
              "      <td>0.2650</td>\n",
              "      <td>0.0264</td>\n",
              "      <td>0.244</td>\n",
              "    </tr>\n",
              "  </tbody>\n",
              "</table>\n",
              "</div>"
            ],
            "text/plain": [
              "                        p(alpha)  p(beta)  ...  p(delta_d)  p(lambda)\n",
              "yellow area              0.09680   0.2690  ...      0.1680      0.588\n",
              "yellow area S            0.21200   0.0180  ...      0.3490      0.428\n",
              "yellow temp area         0.06760   0.2820  ...      0.1330      0.491\n",
              "yellow temp area S       0.22000   0.0198  ...      0.3560      0.341\n",
              "yellow  GI area          0.07430   0.2260  ...      0.1330      0.443\n",
              "yellow  GI area S        0.00529   0.0579  ...      0.0218      0.309\n",
              "yellow  GI temp area     0.02490   0.1890  ...      0.0646      0.360\n",
              "yellow  GI temp area S   0.00946   0.0533  ...      0.0264      0.244\n",
              "\n",
              "[8 rows x 6 columns]"
            ]
          },
          "metadata": {
            "tags": []
          },
          "execution_count": 15
        }
      ]
    },
    {
      "cell_type": "markdown",
      "metadata": {
        "id": "dotB-Wf9cVuv",
        "colab_type": "text"
      },
      "source": [
        "**Habitability is not determined by nutrient flux**\n"
      ]
    },
    {
      "cell_type": "code",
      "metadata": {
        "id": "T3Iqxlc_bKU3",
        "colab_type": "code",
        "outputId": "671bf0db-18d7-4c68-e518-6f52b7611b04",
        "colab": {
          "base_uri": "https://localhost:8080/",
          "height": 110
        }
      },
      "source": [
        "compute_probs(L_old, H_photo=[0], H_S=[2], H_TL=[0,1])"
      ],
      "execution_count": 16,
      "outputs": [
        {
          "output_type": "execute_result",
          "data": {
            "text/html": [
              "<div>\n",
              "<style scoped>\n",
              "    .dataframe tbody tr th:only-of-type {\n",
              "        vertical-align: middle;\n",
              "    }\n",
              "\n",
              "    .dataframe tbody tr th {\n",
              "        vertical-align: top;\n",
              "    }\n",
              "\n",
              "    .dataframe thead th {\n",
              "        text-align: right;\n",
              "    }\n",
              "</style>\n",
              "<table border=\"1\" class=\"dataframe\">\n",
              "  <thead>\n",
              "    <tr style=\"text-align: right;\">\n",
              "      <th></th>\n",
              "      <th>p(alpha)</th>\n",
              "      <th>p(beta)</th>\n",
              "      <th>p(gamma)</th>\n",
              "      <th>p(delta_u)</th>\n",
              "      <th>p(delta_d)</th>\n",
              "      <th>p(lambda)</th>\n",
              "    </tr>\n",
              "  </thead>\n",
              "  <tbody>\n",
              "    <tr>\n",
              "      <th>C</th>\n",
              "      <td>0.3690</td>\n",
              "      <td>0.0877</td>\n",
              "      <td>0.3270</td>\n",
              "      <td>1</td>\n",
              "      <td>1</td>\n",
              "      <td>0.000436</td>\n",
              "    </tr>\n",
              "    <tr>\n",
              "      <th>TL C</th>\n",
              "      <td>0.0483</td>\n",
              "      <td>0.3360</td>\n",
              "      <td>0.0213</td>\n",
              "      <td>1</td>\n",
              "      <td>1</td>\n",
              "      <td>0.570000</td>\n",
              "    </tr>\n",
              "  </tbody>\n",
              "</table>\n",
              "</div>"
            ],
            "text/plain": [
              "       p(alpha)  p(beta)  p(gamma)  p(delta_u)  p(delta_d)  p(lambda)\n",
              " C       0.3690   0.0877    0.3270           1           1   0.000436\n",
              " TL C    0.0483   0.3360    0.0213           1           1   0.570000"
            ]
          },
          "metadata": {
            "tags": []
          },
          "execution_count": 16
        }
      ]
    },
    {
      "cell_type": "code",
      "metadata": {
        "id": "0xT4J_iDaG6M",
        "colab_type": "code",
        "outputId": "d5fd75ee-37f9-4d97-885f-807d72fc370c",
        "colab": {
          "base_uri": "https://localhost:8080/",
          "height": 110
        }
      },
      "source": [
        "compute_probs(L_new, H_photo=[0,2], H_S=[2])"
      ],
      "execution_count": 17,
      "outputs": [
        {
          "output_type": "execute_result",
          "data": {
            "text/html": [
              "<div>\n",
              "<style scoped>\n",
              "    .dataframe tbody tr th:only-of-type {\n",
              "        vertical-align: middle;\n",
              "    }\n",
              "\n",
              "    .dataframe tbody tr th {\n",
              "        vertical-align: top;\n",
              "    }\n",
              "\n",
              "    .dataframe thead th {\n",
              "        text-align: right;\n",
              "    }\n",
              "</style>\n",
              "<table border=\"1\" class=\"dataframe\">\n",
              "  <thead>\n",
              "    <tr style=\"text-align: right;\">\n",
              "      <th></th>\n",
              "      <th>p(alpha)</th>\n",
              "      <th>p(beta)</th>\n",
              "      <th>p(gamma)</th>\n",
              "      <th>p(delta_u)</th>\n",
              "      <th>p(delta_d)</th>\n",
              "      <th>p(lambda)</th>\n",
              "    </tr>\n",
              "  </thead>\n",
              "  <tbody>\n",
              "    <tr>\n",
              "      <th>C</th>\n",
              "      <td>0.170</td>\n",
              "      <td>0.116</td>\n",
              "      <td>0.2380</td>\n",
              "      <td>0.0302</td>\n",
              "      <td>0.258</td>\n",
              "      <td>0.000438</td>\n",
              "    </tr>\n",
              "    <tr>\n",
              "      <th>yellow C</th>\n",
              "      <td>0.176</td>\n",
              "      <td>0.284</td>\n",
              "      <td>0.0542</td>\n",
              "      <td>0.1940</td>\n",
              "      <td>0.136</td>\n",
              "      <td>0.452000</td>\n",
              "    </tr>\n",
              "  </tbody>\n",
              "</table>\n",
              "</div>"
            ],
            "text/plain": [
              "          p(alpha)  p(beta)  p(gamma)  p(delta_u)  p(delta_d)  p(lambda)\n",
              " C           0.170    0.116    0.2380      0.0302       0.258   0.000438\n",
              "yellow C     0.176    0.284    0.0542      0.1940       0.136   0.452000"
            ]
          },
          "metadata": {
            "tags": []
          },
          "execution_count": 17
        }
      ]
    },
    {
      "cell_type": "markdown",
      "metadata": {
        "id": "yYAVvFzvcKFc",
        "colab_type": "text"
      },
      "source": [
        "**Life does not need radiogenic plate tectonics**"
      ]
    },
    {
      "cell_type": "code",
      "metadata": {
        "id": "6KpUXNiobwJY",
        "colab_type": "code",
        "outputId": "c0d9c4c8-0b0d-4437-f838-5787dc6a870d",
        "colab": {
          "base_uri": "https://localhost:8080/",
          "height": 110
        }
      },
      "source": [
        "compute_probs(L_old,H_S=[1],H_plates=[0,1])"
      ],
      "execution_count": 18,
      "outputs": [
        {
          "output_type": "execute_result",
          "data": {
            "text/html": [
              "<div>\n",
              "<style scoped>\n",
              "    .dataframe tbody tr th:only-of-type {\n",
              "        vertical-align: middle;\n",
              "    }\n",
              "\n",
              "    .dataframe tbody tr th {\n",
              "        vertical-align: top;\n",
              "    }\n",
              "\n",
              "    .dataframe thead th {\n",
              "        text-align: right;\n",
              "    }\n",
              "</style>\n",
              "<table border=\"1\" class=\"dataframe\">\n",
              "  <thead>\n",
              "    <tr style=\"text-align: right;\">\n",
              "      <th></th>\n",
              "      <th>p(alpha)</th>\n",
              "      <th>p(beta)</th>\n",
              "      <th>p(gamma)</th>\n",
              "      <th>p(delta_u)</th>\n",
              "      <th>p(delta_d)</th>\n",
              "      <th>p(lambda)</th>\n",
              "    </tr>\n",
              "  </thead>\n",
              "  <tbody>\n",
              "    <tr>\n",
              "      <th>yellow S</th>\n",
              "      <td>0.1570</td>\n",
              "      <td>0.488</td>\n",
              "      <td>0.342</td>\n",
              "      <td>1</td>\n",
              "      <td>1</td>\n",
              "      <td>0.424</td>\n",
              "    </tr>\n",
              "    <tr>\n",
              "      <th>yellow plates S</th>\n",
              "      <td>0.0626</td>\n",
              "      <td>0.392</td>\n",
              "      <td>0.185</td>\n",
              "      <td>1</td>\n",
              "      <td>1</td>\n",
              "      <td>0.424</td>\n",
              "    </tr>\n",
              "  </tbody>\n",
              "</table>\n",
              "</div>"
            ],
            "text/plain": [
              "                 p(alpha)  p(beta)  p(gamma)  p(delta_u)  p(delta_d)  p(lambda)\n",
              "yellow S           0.1570    0.488     0.342           1           1      0.424\n",
              "yellow plates S    0.0626    0.392     0.185           1           1      0.424"
            ]
          },
          "metadata": {
            "tags": []
          },
          "execution_count": 18
        }
      ]
    },
    {
      "cell_type": "code",
      "metadata": {
        "id": "faozEV91ap3N",
        "colab_type": "code",
        "outputId": "be3bfe56-b656-41d3-8217-5234f957269b",
        "colab": {
          "base_uri": "https://localhost:8080/",
          "height": 110
        }
      },
      "source": [
        "compute_probs(L_new,H_S=[1],H_plates=[0,1])"
      ],
      "execution_count": 19,
      "outputs": [
        {
          "output_type": "execute_result",
          "data": {
            "text/html": [
              "<div>\n",
              "<style scoped>\n",
              "    .dataframe tbody tr th:only-of-type {\n",
              "        vertical-align: middle;\n",
              "    }\n",
              "\n",
              "    .dataframe tbody tr th {\n",
              "        vertical-align: top;\n",
              "    }\n",
              "\n",
              "    .dataframe thead th {\n",
              "        text-align: right;\n",
              "    }\n",
              "</style>\n",
              "<table border=\"1\" class=\"dataframe\">\n",
              "  <thead>\n",
              "    <tr style=\"text-align: right;\">\n",
              "      <th></th>\n",
              "      <th>p(alpha)</th>\n",
              "      <th>p(beta)</th>\n",
              "      <th>p(gamma)</th>\n",
              "      <th>p(delta_u)</th>\n",
              "      <th>p(delta_d)</th>\n",
              "      <th>p(lambda)</th>\n",
              "    </tr>\n",
              "  </thead>\n",
              "  <tbody>\n",
              "    <tr>\n",
              "      <th>yellow S</th>\n",
              "      <td>0.4230</td>\n",
              "      <td>0.273</td>\n",
              "      <td>0.234</td>\n",
              "      <td>0.167</td>\n",
              "      <td>0.494</td>\n",
              "      <td>0.428</td>\n",
              "    </tr>\n",
              "    <tr>\n",
              "      <th>yellow plates S</th>\n",
              "      <td>0.0724</td>\n",
              "      <td>0.345</td>\n",
              "      <td>0.268</td>\n",
              "      <td>0.179</td>\n",
              "      <td>0.128</td>\n",
              "      <td>0.424</td>\n",
              "    </tr>\n",
              "  </tbody>\n",
              "</table>\n",
              "</div>"
            ],
            "text/plain": [
              "                 p(alpha)  p(beta)  p(gamma)  p(delta_u)  p(delta_d)  p(lambda)\n",
              "yellow S           0.4230    0.273     0.234       0.167       0.494      0.428\n",
              "yellow plates S    0.0724    0.345     0.268       0.179       0.128      0.424"
            ]
          },
          "metadata": {
            "tags": []
          },
          "execution_count": 19
        }
      ]
    },
    {
      "cell_type": "markdown",
      "metadata": {
        "id": "EH03dECrc_ph",
        "colab_type": "text"
      },
      "source": [
        "**Red dwarf stars cannot support life**"
      ]
    },
    {
      "cell_type": "code",
      "metadata": {
        "id": "cVBRerxZb3U_",
        "colab_type": "code",
        "outputId": "20b76595-40a0-4ae8-e1eb-7ab5b27b22c8",
        "colab": {
          "base_uri": "https://localhost:8080/",
          "height": 233
        }
      },
      "source": [
        "compute_probs(L_old,H_S=[1],H_photo=[1,2],H_TL=[0,1],H_conv=[0,1], max_P=3)"
      ],
      "execution_count": 20,
      "outputs": [
        {
          "output_type": "execute_result",
          "data": {
            "text/html": [
              "<div>\n",
              "<style scoped>\n",
              "    .dataframe tbody tr th:only-of-type {\n",
              "        vertical-align: middle;\n",
              "    }\n",
              "\n",
              "    .dataframe tbody tr th {\n",
              "        vertical-align: top;\n",
              "    }\n",
              "\n",
              "    .dataframe thead th {\n",
              "        text-align: right;\n",
              "    }\n",
              "</style>\n",
              "<table border=\"1\" class=\"dataframe\">\n",
              "  <thead>\n",
              "    <tr style=\"text-align: right;\">\n",
              "      <th></th>\n",
              "      <th>p(alpha)</th>\n",
              "      <th>p(beta)</th>\n",
              "      <th>p(gamma)</th>\n",
              "      <th>p(delta_u)</th>\n",
              "      <th>p(delta_d)</th>\n",
              "      <th>p(lambda)</th>\n",
              "    </tr>\n",
              "  </thead>\n",
              "  <tbody>\n",
              "    <tr>\n",
              "      <th>photo S</th>\n",
              "      <td>0.241</td>\n",
              "      <td>0.401</td>\n",
              "      <td>0.383</td>\n",
              "      <td>1</td>\n",
              "      <td>1</td>\n",
              "      <td>0.024</td>\n",
              "    </tr>\n",
              "    <tr>\n",
              "      <th>photo conv S</th>\n",
              "      <td>0.260</td>\n",
              "      <td>0.388</td>\n",
              "      <td>0.360</td>\n",
              "      <td>1</td>\n",
              "      <td>1</td>\n",
              "      <td>0.024</td>\n",
              "    </tr>\n",
              "    <tr>\n",
              "      <th>photo TL S</th>\n",
              "      <td>0.495</td>\n",
              "      <td>0.498</td>\n",
              "      <td>0.301</td>\n",
              "      <td>1</td>\n",
              "      <td>1</td>\n",
              "      <td>0.528</td>\n",
              "    </tr>\n",
              "    <tr>\n",
              "      <th>yellow S</th>\n",
              "      <td>0.157</td>\n",
              "      <td>0.488</td>\n",
              "      <td>0.342</td>\n",
              "      <td>1</td>\n",
              "      <td>1</td>\n",
              "      <td>0.424</td>\n",
              "    </tr>\n",
              "    <tr>\n",
              "      <th>yellow conv S</th>\n",
              "      <td>0.157</td>\n",
              "      <td>0.488</td>\n",
              "      <td>0.342</td>\n",
              "      <td>1</td>\n",
              "      <td>1</td>\n",
              "      <td>0.424</td>\n",
              "    </tr>\n",
              "    <tr>\n",
              "      <th>yellow TL S</th>\n",
              "      <td>0.452</td>\n",
              "      <td>0.401</td>\n",
              "      <td>0.182</td>\n",
              "      <td>1</td>\n",
              "      <td>1</td>\n",
              "      <td>0.440</td>\n",
              "    </tr>\n",
              "  </tbody>\n",
              "</table>\n",
              "</div>"
            ],
            "text/plain": [
              "               p(alpha)  p(beta)  p(gamma)  p(delta_u)  p(delta_d)  p(lambda)\n",
              " photo S          0.241    0.401     0.383           1           1      0.024\n",
              " photo conv S     0.260    0.388     0.360           1           1      0.024\n",
              " photo TL S       0.495    0.498     0.301           1           1      0.528\n",
              "yellow S          0.157    0.488     0.342           1           1      0.424\n",
              "yellow conv S     0.157    0.488     0.342           1           1      0.424\n",
              "yellow TL S       0.452    0.401     0.182           1           1      0.440"
            ]
          },
          "metadata": {
            "tags": []
          },
          "execution_count": 20
        }
      ]
    },
    {
      "cell_type": "code",
      "metadata": {
        "id": "6IIAfDr-dCp1",
        "colab_type": "code",
        "outputId": "e233d28e-daed-4522-acb3-58415d9e38f6",
        "colab": {
          "base_uri": "https://localhost:8080/",
          "height": 233
        }
      },
      "source": [
        "compute_probs(L_new,H_S=[1],H_photo=[1,2],H_TL=[0,1],H_conv=[0,1], max_P=3)"
      ],
      "execution_count": 21,
      "outputs": [
        {
          "output_type": "execute_result",
          "data": {
            "text/html": [
              "<div>\n",
              "<style scoped>\n",
              "    .dataframe tbody tr th:only-of-type {\n",
              "        vertical-align: middle;\n",
              "    }\n",
              "\n",
              "    .dataframe tbody tr th {\n",
              "        vertical-align: top;\n",
              "    }\n",
              "\n",
              "    .dataframe thead th {\n",
              "        text-align: right;\n",
              "    }\n",
              "</style>\n",
              "<table border=\"1\" class=\"dataframe\">\n",
              "  <thead>\n",
              "    <tr style=\"text-align: right;\">\n",
              "      <th></th>\n",
              "      <th>p(alpha)</th>\n",
              "      <th>p(beta)</th>\n",
              "      <th>p(gamma)</th>\n",
              "      <th>p(delta_u)</th>\n",
              "      <th>p(delta_d)</th>\n",
              "      <th>p(lambda)</th>\n",
              "    </tr>\n",
              "  </thead>\n",
              "  <tbody>\n",
              "    <tr>\n",
              "      <th>photo S</th>\n",
              "      <td>0.3550</td>\n",
              "      <td>0.307</td>\n",
              "      <td>0.250</td>\n",
              "      <td>0.1200</td>\n",
              "      <td>0.429</td>\n",
              "      <td>0.0242</td>\n",
              "    </tr>\n",
              "    <tr>\n",
              "      <th>photo conv S</th>\n",
              "      <td>0.3360</td>\n",
              "      <td>0.289</td>\n",
              "      <td>0.246</td>\n",
              "      <td>0.1140</td>\n",
              "      <td>0.412</td>\n",
              "      <td>0.0242</td>\n",
              "    </tr>\n",
              "    <tr>\n",
              "      <th>photo TL S</th>\n",
              "      <td>0.1680</td>\n",
              "      <td>0.293</td>\n",
              "      <td>0.157</td>\n",
              "      <td>0.0635</td>\n",
              "      <td>0.252</td>\n",
              "      <td>0.5280</td>\n",
              "    </tr>\n",
              "    <tr>\n",
              "      <th>yellow S</th>\n",
              "      <td>0.4230</td>\n",
              "      <td>0.273</td>\n",
              "      <td>0.234</td>\n",
              "      <td>0.1670</td>\n",
              "      <td>0.494</td>\n",
              "      <td>0.4280</td>\n",
              "    </tr>\n",
              "    <tr>\n",
              "      <th>yellow conv S</th>\n",
              "      <td>0.4230</td>\n",
              "      <td>0.273</td>\n",
              "      <td>0.234</td>\n",
              "      <td>0.1670</td>\n",
              "      <td>0.494</td>\n",
              "      <td>0.4280</td>\n",
              "    </tr>\n",
              "    <tr>\n",
              "      <th>yellow TL S</th>\n",
              "      <td>0.0917</td>\n",
              "      <td>0.254</td>\n",
              "      <td>0.152</td>\n",
              "      <td>0.0390</td>\n",
              "      <td>0.170</td>\n",
              "      <td>0.4420</td>\n",
              "    </tr>\n",
              "  </tbody>\n",
              "</table>\n",
              "</div>"
            ],
            "text/plain": [
              "               p(alpha)  p(beta)  p(gamma)  p(delta_u)  p(delta_d)  p(lambda)\n",
              " photo S         0.3550    0.307     0.250      0.1200       0.429     0.0242\n",
              " photo conv S    0.3360    0.289     0.246      0.1140       0.412     0.0242\n",
              " photo TL S      0.1680    0.293     0.157      0.0635       0.252     0.5280\n",
              "yellow S         0.4230    0.273     0.234      0.1670       0.494     0.4280\n",
              "yellow conv S    0.4230    0.273     0.234      0.1670       0.494     0.4280\n",
              "yellow TL S      0.0917    0.254     0.152      0.0390       0.170     0.4420"
            ]
          },
          "metadata": {
            "tags": []
          },
          "execution_count": 21
        }
      ]
    },
    {
      "cell_type": "markdown",
      "metadata": {
        "id": "qQfMKqT2dA94",
        "colab_type": "text"
      },
      "source": [
        "**The hard step and bated breath models of intelligence cannot be true (bated breath not displayed)**"
      ]
    },
    {
      "cell_type": "code",
      "metadata": {
        "id": "Awpr4sZhcBN0",
        "colab_type": "code",
        "outputId": "70f31c4c-f521-4931-ebee-5ebc9fa925ab",
        "colab": {
          "base_uri": "https://localhost:8080/",
          "height": 79
        }
      },
      "source": [
        "compute_probs(L_old,H_time=[1],H_S=[0],H_photo=[0],n_hard=4)"
      ],
      "execution_count": 22,
      "outputs": [
        {
          "output_type": "execute_result",
          "data": {
            "text/html": [
              "<div>\n",
              "<style scoped>\n",
              "    .dataframe tbody tr th:only-of-type {\n",
              "        vertical-align: middle;\n",
              "    }\n",
              "\n",
              "    .dataframe tbody tr th {\n",
              "        vertical-align: top;\n",
              "    }\n",
              "\n",
              "    .dataframe thead th {\n",
              "        text-align: right;\n",
              "    }\n",
              "</style>\n",
              "<table border=\"1\" class=\"dataframe\">\n",
              "  <thead>\n",
              "    <tr style=\"text-align: right;\">\n",
              "      <th></th>\n",
              "      <th>p(alpha)</th>\n",
              "      <th>p(beta)</th>\n",
              "      <th>p(gamma)</th>\n",
              "      <th>p(delta_u)</th>\n",
              "      <th>p(delta_d)</th>\n",
              "      <th>p(lambda)</th>\n",
              "    </tr>\n",
              "  </thead>\n",
              "  <tbody>\n",
              "    <tr>\n",
              "      <th>time</th>\n",
              "      <td>0.478</td>\n",
              "      <td>0.00755</td>\n",
              "      <td>0.00001</td>\n",
              "      <td>1</td>\n",
              "      <td>1</td>\n",
              "      <td>0.000436</td>\n",
              "    </tr>\n",
              "  </tbody>\n",
              "</table>\n",
              "</div>"
            ],
            "text/plain": [
              "       p(alpha)  p(beta)  p(gamma)  p(delta_u)  p(delta_d)  p(lambda)\n",
              " time     0.478  0.00755   0.00001           1           1   0.000436"
            ]
          },
          "metadata": {
            "tags": []
          },
          "execution_count": 22
        }
      ]
    },
    {
      "cell_type": "code",
      "metadata": {
        "id": "fNm8fsLZayf6",
        "colab_type": "code",
        "outputId": "dcadc5c7-e0f4-4b03-feec-4f7a26c25033",
        "colab": {
          "base_uri": "https://localhost:8080/",
          "height": 79
        }
      },
      "source": [
        "compute_probs(L_new,H_time=[1],H_S=[0],H_photo=[0],n_hard=4)"
      ],
      "execution_count": 23,
      "outputs": [
        {
          "output_type": "execute_result",
          "data": {
            "text/html": [
              "<div>\n",
              "<style scoped>\n",
              "    .dataframe tbody tr th:only-of-type {\n",
              "        vertical-align: middle;\n",
              "    }\n",
              "\n",
              "    .dataframe tbody tr th {\n",
              "        vertical-align: top;\n",
              "    }\n",
              "\n",
              "    .dataframe thead th {\n",
              "        text-align: right;\n",
              "    }\n",
              "</style>\n",
              "<table border=\"1\" class=\"dataframe\">\n",
              "  <thead>\n",
              "    <tr style=\"text-align: right;\">\n",
              "      <th></th>\n",
              "      <th>p(alpha)</th>\n",
              "      <th>p(beta)</th>\n",
              "      <th>p(gamma)</th>\n",
              "      <th>p(delta_u)</th>\n",
              "      <th>p(delta_d)</th>\n",
              "      <th>p(lambda)</th>\n",
              "    </tr>\n",
              "  </thead>\n",
              "  <tbody>\n",
              "    <tr>\n",
              "      <th>time</th>\n",
              "      <td>0.389</td>\n",
              "      <td>0.00518</td>\n",
              "      <td>0.00002</td>\n",
              "      <td>0.00344</td>\n",
              "      <td>0.449</td>\n",
              "      <td>0.000438</td>\n",
              "    </tr>\n",
              "  </tbody>\n",
              "</table>\n",
              "</div>"
            ],
            "text/plain": [
              "       p(alpha)  p(beta)  p(gamma)  p(delta_u)  p(delta_d)  p(lambda)\n",
              " time     0.389  0.00518   0.00002     0.00344       0.449   0.000438"
            ]
          },
          "metadata": {
            "tags": []
          },
          "execution_count": 23
        }
      ]
    },
    {
      "cell_type": "markdown",
      "metadata": {
        "id": "I2cVNW48dKbW",
        "colab_type": "text"
      },
      "source": [
        "**Gamma ray bursts do not affect life**"
      ]
    },
    {
      "cell_type": "code",
      "metadata": {
        "id": "8R_hWnh9cQaK",
        "colab_type": "code",
        "outputId": "7ea39dd6-4243-4839-cac4-4ef624d57c59",
        "colab": {
          "base_uri": "https://localhost:8080/",
          "height": 539
        }
      },
      "source": [
        "compute_probs(L_old, H_S=[1], H_death=[1], H_glac=[0,1],\n",
        "              H_comets=[0,1], H_vol=[0,1], H_grbs=[0,1])"
      ],
      "execution_count": 24,
      "outputs": [
        {
          "output_type": "execute_result",
          "data": {
            "text/html": [
              "<div>\n",
              "<style scoped>\n",
              "    .dataframe tbody tr th:only-of-type {\n",
              "        vertical-align: middle;\n",
              "    }\n",
              "\n",
              "    .dataframe tbody tr th {\n",
              "        vertical-align: top;\n",
              "    }\n",
              "\n",
              "    .dataframe thead th {\n",
              "        text-align: right;\n",
              "    }\n",
              "</style>\n",
              "<table border=\"1\" class=\"dataframe\">\n",
              "  <thead>\n",
              "    <tr style=\"text-align: right;\">\n",
              "      <th></th>\n",
              "      <th>p(alpha)</th>\n",
              "      <th>p(beta)</th>\n",
              "      <th>p(gamma)</th>\n",
              "      <th>p(delta_u)</th>\n",
              "      <th>p(delta_d)</th>\n",
              "      <th>p(lambda)</th>\n",
              "    </tr>\n",
              "  </thead>\n",
              "  <tbody>\n",
              "    <tr>\n",
              "      <th>yellow S setback</th>\n",
              "      <td>0.157</td>\n",
              "      <td>0.488</td>\n",
              "      <td>0.342000</td>\n",
              "      <td>1</td>\n",
              "      <td>1</td>\n",
              "      <td>0.424</td>\n",
              "    </tr>\n",
              "    <tr>\n",
              "      <th>yellow S setback vol</th>\n",
              "      <td>0.162</td>\n",
              "      <td>0.471</td>\n",
              "      <td>0.318000</td>\n",
              "      <td>1</td>\n",
              "      <td>1</td>\n",
              "      <td>0.418</td>\n",
              "    </tr>\n",
              "    <tr>\n",
              "      <th>yellow S setback glac</th>\n",
              "      <td>0.161</td>\n",
              "      <td>0.475</td>\n",
              "      <td>0.326000</td>\n",
              "      <td>1</td>\n",
              "      <td>1</td>\n",
              "      <td>0.423</td>\n",
              "    </tr>\n",
              "    <tr>\n",
              "      <th>yellow S setback glac vol</th>\n",
              "      <td>0.162</td>\n",
              "      <td>0.472</td>\n",
              "      <td>0.321000</td>\n",
              "      <td>1</td>\n",
              "      <td>1</td>\n",
              "      <td>0.421</td>\n",
              "    </tr>\n",
              "    <tr>\n",
              "      <th>yellow S setback grbs</th>\n",
              "      <td>0.231</td>\n",
              "      <td>0.279</td>\n",
              "      <td>1.000000</td>\n",
              "      <td>1</td>\n",
              "      <td>1</td>\n",
              "      <td>0.409</td>\n",
              "    </tr>\n",
              "    <tr>\n",
              "      <th>yellow S setback grbs vol</th>\n",
              "      <td>0.225</td>\n",
              "      <td>0.292</td>\n",
              "      <td>0.000855</td>\n",
              "      <td>1</td>\n",
              "      <td>1</td>\n",
              "      <td>0.414</td>\n",
              "    </tr>\n",
              "    <tr>\n",
              "      <th>yellow S setback grbs glac</th>\n",
              "      <td>0.226</td>\n",
              "      <td>0.292</td>\n",
              "      <td>0.000911</td>\n",
              "      <td>1</td>\n",
              "      <td>1</td>\n",
              "      <td>0.417</td>\n",
              "    </tr>\n",
              "    <tr>\n",
              "      <th>yellow S setback grbs glac vol</th>\n",
              "      <td>0.219</td>\n",
              "      <td>0.302</td>\n",
              "      <td>0.014400</td>\n",
              "      <td>1</td>\n",
              "      <td>1</td>\n",
              "      <td>0.417</td>\n",
              "    </tr>\n",
              "    <tr>\n",
              "      <th>yellow S setback comets</th>\n",
              "      <td>0.154</td>\n",
              "      <td>0.223</td>\n",
              "      <td>0.107000</td>\n",
              "      <td>1</td>\n",
              "      <td>1</td>\n",
              "      <td>0.431</td>\n",
              "    </tr>\n",
              "    <tr>\n",
              "      <th>yellow S setback comets vol</th>\n",
              "      <td>0.156</td>\n",
              "      <td>0.255</td>\n",
              "      <td>0.124000</td>\n",
              "      <td>1</td>\n",
              "      <td>1</td>\n",
              "      <td>0.424</td>\n",
              "    </tr>\n",
              "    <tr>\n",
              "      <th>yellow S setback comets glac</th>\n",
              "      <td>0.156</td>\n",
              "      <td>0.254</td>\n",
              "      <td>0.125000</td>\n",
              "      <td>1</td>\n",
              "      <td>1</td>\n",
              "      <td>0.427</td>\n",
              "    </tr>\n",
              "    <tr>\n",
              "      <th>yellow S setback comets glac vol</th>\n",
              "      <td>0.157</td>\n",
              "      <td>0.277</td>\n",
              "      <td>0.140000</td>\n",
              "      <td>1</td>\n",
              "      <td>1</td>\n",
              "      <td>0.424</td>\n",
              "    </tr>\n",
              "    <tr>\n",
              "      <th>yellow S setback comets grbs</th>\n",
              "      <td>0.196</td>\n",
              "      <td>0.243</td>\n",
              "      <td>1.000000</td>\n",
              "      <td>1</td>\n",
              "      <td>1</td>\n",
              "      <td>0.420</td>\n",
              "    </tr>\n",
              "    <tr>\n",
              "      <th>yellow S setback comets grbs vol</th>\n",
              "      <td>0.195</td>\n",
              "      <td>0.255</td>\n",
              "      <td>0.004860</td>\n",
              "      <td>1</td>\n",
              "      <td>1</td>\n",
              "      <td>0.419</td>\n",
              "    </tr>\n",
              "    <tr>\n",
              "      <th>yellow S setback comets grbs glac</th>\n",
              "      <td>0.196</td>\n",
              "      <td>0.255</td>\n",
              "      <td>0.004590</td>\n",
              "      <td>1</td>\n",
              "      <td>1</td>\n",
              "      <td>0.421</td>\n",
              "    </tr>\n",
              "    <tr>\n",
              "      <th>yellow S setback comets grbs glac vol</th>\n",
              "      <td>0.193</td>\n",
              "      <td>0.272</td>\n",
              "      <td>0.018200</td>\n",
              "      <td>1</td>\n",
              "      <td>1</td>\n",
              "      <td>0.420</td>\n",
              "    </tr>\n",
              "  </tbody>\n",
              "</table>\n",
              "</div>"
            ],
            "text/plain": [
              "                                       p(alpha)  p(beta)  ...  p(delta_d)  p(lambda)\n",
              "yellow S setback                          0.157    0.488  ...           1      0.424\n",
              "yellow S setback vol                      0.162    0.471  ...           1      0.418\n",
              "yellow S setback glac                     0.161    0.475  ...           1      0.423\n",
              "yellow S setback glac vol                 0.162    0.472  ...           1      0.421\n",
              "yellow S setback grbs                     0.231    0.279  ...           1      0.409\n",
              "yellow S setback grbs vol                 0.225    0.292  ...           1      0.414\n",
              "yellow S setback grbs glac                0.226    0.292  ...           1      0.417\n",
              "yellow S setback grbs glac vol            0.219    0.302  ...           1      0.417\n",
              "yellow S setback comets                   0.154    0.223  ...           1      0.431\n",
              "yellow S setback comets vol               0.156    0.255  ...           1      0.424\n",
              "yellow S setback comets glac              0.156    0.254  ...           1      0.427\n",
              "yellow S setback comets glac vol          0.157    0.277  ...           1      0.424\n",
              "yellow S setback comets grbs              0.196    0.243  ...           1      0.420\n",
              "yellow S setback comets grbs vol          0.195    0.255  ...           1      0.419\n",
              "yellow S setback comets grbs glac         0.196    0.255  ...           1      0.421\n",
              "yellow S setback comets grbs glac vol     0.193    0.272  ...           1      0.420\n",
              "\n",
              "[16 rows x 6 columns]"
            ]
          },
          "metadata": {
            "tags": []
          },
          "execution_count": 24
        }
      ]
    },
    {
      "cell_type": "code",
      "metadata": {
        "id": "03uibQQndapV",
        "colab_type": "code",
        "outputId": "a0296812-a0a6-4610-d51d-2fae4073e121",
        "colab": {
          "base_uri": "https://localhost:8080/",
          "height": 539
        }
      },
      "source": [
        "compute_probs(L_new, H_S=[1], H_death=[1], H_glac=[0,1],\n",
        "              H_comets=[0,1], H_vol=[0,1], H_grbs=[0,1])"
      ],
      "execution_count": 25,
      "outputs": [
        {
          "output_type": "execute_result",
          "data": {
            "text/html": [
              "<div>\n",
              "<style scoped>\n",
              "    .dataframe tbody tr th:only-of-type {\n",
              "        vertical-align: middle;\n",
              "    }\n",
              "\n",
              "    .dataframe tbody tr th {\n",
              "        vertical-align: top;\n",
              "    }\n",
              "\n",
              "    .dataframe thead th {\n",
              "        text-align: right;\n",
              "    }\n",
              "</style>\n",
              "<table border=\"1\" class=\"dataframe\">\n",
              "  <thead>\n",
              "    <tr style=\"text-align: right;\">\n",
              "      <th></th>\n",
              "      <th>p(alpha)</th>\n",
              "      <th>p(beta)</th>\n",
              "      <th>p(gamma)</th>\n",
              "      <th>p(delta_u)</th>\n",
              "      <th>p(delta_d)</th>\n",
              "      <th>p(lambda)</th>\n",
              "    </tr>\n",
              "  </thead>\n",
              "  <tbody>\n",
              "    <tr>\n",
              "      <th>yellow S setback</th>\n",
              "      <td>0.423</td>\n",
              "      <td>0.273</td>\n",
              "      <td>0.2340</td>\n",
              "      <td>0.1670</td>\n",
              "      <td>0.494</td>\n",
              "      <td>0.428</td>\n",
              "    </tr>\n",
              "    <tr>\n",
              "      <th>yellow S setback vol</th>\n",
              "      <td>0.419</td>\n",
              "      <td>0.279</td>\n",
              "      <td>0.2140</td>\n",
              "      <td>0.1620</td>\n",
              "      <td>0.492</td>\n",
              "      <td>0.422</td>\n",
              "    </tr>\n",
              "    <tr>\n",
              "      <th>yellow S setback glac</th>\n",
              "      <td>0.415</td>\n",
              "      <td>0.278</td>\n",
              "      <td>0.2200</td>\n",
              "      <td>0.1630</td>\n",
              "      <td>0.489</td>\n",
              "      <td>0.427</td>\n",
              "    </tr>\n",
              "    <tr>\n",
              "      <th>yellow S setback glac vol</th>\n",
              "      <td>0.417</td>\n",
              "      <td>0.278</td>\n",
              "      <td>0.2160</td>\n",
              "      <td>0.1620</td>\n",
              "      <td>0.491</td>\n",
              "      <td>0.424</td>\n",
              "    </tr>\n",
              "    <tr>\n",
              "      <th>yellow S setback grbs</th>\n",
              "      <td>0.326</td>\n",
              "      <td>0.330</td>\n",
              "      <td>0.0164</td>\n",
              "      <td>0.0983</td>\n",
              "      <td>0.415</td>\n",
              "      <td>0.413</td>\n",
              "    </tr>\n",
              "    <tr>\n",
              "      <th>yellow S setback grbs vol</th>\n",
              "      <td>0.340</td>\n",
              "      <td>0.329</td>\n",
              "      <td>0.0227</td>\n",
              "      <td>0.1050</td>\n",
              "      <td>0.428</td>\n",
              "      <td>0.417</td>\n",
              "    </tr>\n",
              "    <tr>\n",
              "      <th>yellow S setback grbs glac</th>\n",
              "      <td>0.339</td>\n",
              "      <td>0.329</td>\n",
              "      <td>0.0236</td>\n",
              "      <td>0.1050</td>\n",
              "      <td>0.427</td>\n",
              "      <td>0.420</td>\n",
              "    </tr>\n",
              "    <tr>\n",
              "      <th>yellow S setback grbs glac vol</th>\n",
              "      <td>0.347</td>\n",
              "      <td>0.327</td>\n",
              "      <td>0.0266</td>\n",
              "      <td>0.1090</td>\n",
              "      <td>0.434</td>\n",
              "      <td>0.421</td>\n",
              "    </tr>\n",
              "    <tr>\n",
              "      <th>yellow S setback comets</th>\n",
              "      <td>0.456</td>\n",
              "      <td>0.469</td>\n",
              "      <td>0.0714</td>\n",
              "      <td>0.1530</td>\n",
              "      <td>0.365</td>\n",
              "      <td>0.434</td>\n",
              "    </tr>\n",
              "    <tr>\n",
              "      <th>yellow S setback comets vol</th>\n",
              "      <td>0.474</td>\n",
              "      <td>0.477</td>\n",
              "      <td>0.0921</td>\n",
              "      <td>0.1520</td>\n",
              "      <td>0.389</td>\n",
              "      <td>0.428</td>\n",
              "    </tr>\n",
              "    <tr>\n",
              "      <th>yellow S setback comets glac</th>\n",
              "      <td>0.475</td>\n",
              "      <td>0.478</td>\n",
              "      <td>0.0939</td>\n",
              "      <td>0.1520</td>\n",
              "      <td>0.390</td>\n",
              "      <td>0.431</td>\n",
              "    </tr>\n",
              "    <tr>\n",
              "      <th>yellow S setback comets glac vol</th>\n",
              "      <td>0.486</td>\n",
              "      <td>0.450</td>\n",
              "      <td>0.1020</td>\n",
              "      <td>0.1520</td>\n",
              "      <td>0.403</td>\n",
              "      <td>0.428</td>\n",
              "    </tr>\n",
              "    <tr>\n",
              "      <th>yellow S setback comets grbs</th>\n",
              "      <td>0.459</td>\n",
              "      <td>0.464</td>\n",
              "      <td>0.0282</td>\n",
              "      <td>0.1310</td>\n",
              "      <td>0.444</td>\n",
              "      <td>0.424</td>\n",
              "    </tr>\n",
              "    <tr>\n",
              "      <th>yellow S setback comets grbs vol</th>\n",
              "      <td>0.450</td>\n",
              "      <td>0.441</td>\n",
              "      <td>0.0305</td>\n",
              "      <td>0.1320</td>\n",
              "      <td>0.457</td>\n",
              "      <td>0.423</td>\n",
              "    </tr>\n",
              "    <tr>\n",
              "      <th>yellow S setback comets grbs glac</th>\n",
              "      <td>0.449</td>\n",
              "      <td>0.441</td>\n",
              "      <td>0.0313</td>\n",
              "      <td>0.1310</td>\n",
              "      <td>0.457</td>\n",
              "      <td>0.425</td>\n",
              "    </tr>\n",
              "    <tr>\n",
              "      <th>yellow S setback comets grbs glac vol</th>\n",
              "      <td>0.444</td>\n",
              "      <td>0.426</td>\n",
              "      <td>0.0332</td>\n",
              "      <td>0.1320</td>\n",
              "      <td>0.464</td>\n",
              "      <td>0.424</td>\n",
              "    </tr>\n",
              "  </tbody>\n",
              "</table>\n",
              "</div>"
            ],
            "text/plain": [
              "                                       p(alpha)  p(beta)  ...  p(delta_d)  p(lambda)\n",
              "yellow S setback                          0.423    0.273  ...       0.494      0.428\n",
              "yellow S setback vol                      0.419    0.279  ...       0.492      0.422\n",
              "yellow S setback glac                     0.415    0.278  ...       0.489      0.427\n",
              "yellow S setback glac vol                 0.417    0.278  ...       0.491      0.424\n",
              "yellow S setback grbs                     0.326    0.330  ...       0.415      0.413\n",
              "yellow S setback grbs vol                 0.340    0.329  ...       0.428      0.417\n",
              "yellow S setback grbs glac                0.339    0.329  ...       0.427      0.420\n",
              "yellow S setback grbs glac vol            0.347    0.327  ...       0.434      0.421\n",
              "yellow S setback comets                   0.456    0.469  ...       0.365      0.434\n",
              "yellow S setback comets vol               0.474    0.477  ...       0.389      0.428\n",
              "yellow S setback comets glac              0.475    0.478  ...       0.390      0.431\n",
              "yellow S setback comets glac vol          0.486    0.450  ...       0.403      0.428\n",
              "yellow S setback comets grbs              0.459    0.464  ...       0.444      0.424\n",
              "yellow S setback comets grbs vol          0.450    0.441  ...       0.457      0.423\n",
              "yellow S setback comets grbs glac         0.449    0.441  ...       0.457      0.425\n",
              "yellow S setback comets grbs glac vol     0.444    0.426  ...       0.464      0.424\n",
              "\n",
              "[16 rows x 6 columns]"
            ]
          },
          "metadata": {
            "tags": []
          },
          "execution_count": 25
        }
      ]
    },
    {
      "cell_type": "code",
      "metadata": {
        "id": "zxrHuXmKeZ4o",
        "colab_type": "code",
        "outputId": "0c8fc06a-2432-48d4-bff7-cf9196f20858",
        "colab": {
          "base_uri": "https://localhost:8080/",
          "height": 141
        }
      },
      "source": [
        "compute_probs(L_new, H_S=[1], H_CO=[0,1,2], Q_ER=1)"
      ],
      "execution_count": 27,
      "outputs": [
        {
          "output_type": "execute_result",
          "data": {
            "text/html": [
              "<div>\n",
              "<style scoped>\n",
              "    .dataframe tbody tr th:only-of-type {\n",
              "        vertical-align: middle;\n",
              "    }\n",
              "\n",
              "    .dataframe tbody tr th {\n",
              "        vertical-align: top;\n",
              "    }\n",
              "\n",
              "    .dataframe thead th {\n",
              "        text-align: right;\n",
              "    }\n",
              "</style>\n",
              "<table border=\"1\" class=\"dataframe\">\n",
              "  <thead>\n",
              "    <tr style=\"text-align: right;\">\n",
              "      <th></th>\n",
              "      <th>p(alpha)</th>\n",
              "      <th>p(beta)</th>\n",
              "      <th>p(gamma)</th>\n",
              "      <th>p(delta_u)</th>\n",
              "      <th>p(delta_d)</th>\n",
              "      <th>p(lambda)</th>\n",
              "      <th>p(E_R)</th>\n",
              "    </tr>\n",
              "  </thead>\n",
              "  <tbody>\n",
              "    <tr>\n",
              "      <th>yellow S</th>\n",
              "      <td>0.423</td>\n",
              "      <td>0.273</td>\n",
              "      <td>0.234</td>\n",
              "      <td>0.167</td>\n",
              "      <td>0.494</td>\n",
              "      <td>0.428</td>\n",
              "      <td>0.4560</td>\n",
              "    </tr>\n",
              "    <tr>\n",
              "      <th>yellow S C/O</th>\n",
              "      <td>0.178</td>\n",
              "      <td>0.210</td>\n",
              "      <td>0.193</td>\n",
              "      <td>0.214</td>\n",
              "      <td>0.316</td>\n",
              "      <td>0.426</td>\n",
              "      <td>0.2500</td>\n",
              "    </tr>\n",
              "    <tr>\n",
              "      <th>yellow S Mg/Si</th>\n",
              "      <td>0.414</td>\n",
              "      <td>0.231</td>\n",
              "      <td>0.276</td>\n",
              "      <td>0.244</td>\n",
              "      <td>0.273</td>\n",
              "      <td>0.426</td>\n",
              "      <td>0.0607</td>\n",
              "    </tr>\n",
              "  </tbody>\n",
              "</table>\n",
              "</div>"
            ],
            "text/plain": [
              "                p(alpha)  p(beta)  p(gamma)  ...  p(delta_d)  p(lambda)  p(E_R)\n",
              "yellow S           0.423    0.273     0.234  ...       0.494      0.428  0.4560\n",
              "yellow S C/O       0.178    0.210     0.193  ...       0.316      0.426  0.2500\n",
              "yellow S Mg/Si     0.414    0.231     0.276  ...       0.273      0.426  0.0607\n",
              "\n",
              "[3 rows x 7 columns]"
            ]
          },
          "metadata": {
            "tags": []
          },
          "execution_count": 27
        }
      ]
    },
    {
      "cell_type": "code",
      "metadata": {
        "id": "AlkflW6WvQYf",
        "colab_type": "code",
        "colab": {}
      },
      "source": [
        ""
      ],
      "execution_count": 0,
      "outputs": []
    }
  ]
}