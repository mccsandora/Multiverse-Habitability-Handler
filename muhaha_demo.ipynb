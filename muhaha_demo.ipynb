{
 "cells": [
  {
   "cell_type": "code",
   "execution_count": 1,
   "metadata": {
    "colab": {},
    "colab_type": "code",
    "id": "qAUSmHpUWGbf",
    "tags": []
   },
   "outputs": [],
   "source": [
    "from muhaha import *\n",
    "H_nb={'Q_l':1,'return_df':True,'verbose':False}"
   ]
  },
  {
   "cell_type": "markdown",
   "metadata": {
    "colab_type": "text",
    "id": "ruyqZFFBcQLR"
   },
   "source": [
    "**Habitability must depend on stellar properties**"
   ]
  },
  {
   "cell_type": "code",
   "execution_count": 2,
   "metadata": {
    "colab": {
     "base_uri": "https://localhost:8080/",
     "height": 79
    },
    "colab_type": "code",
    "id": "WZHKqZ5mWc-O",
    "outputId": "1182ad9c-a32a-4475-b1aa-e983a6601ab0"
   },
   "outputs": [
    {
     "name": "stderr",
     "output_type": "stream",
     "text": [
      "1it [00:05,  5.62s/it]\n"
     ]
    },
    {
     "data": {
      "text/html": [
       "<div>\n",
       "<style scoped>\n",
       "    .dataframe tbody tr th:only-of-type {\n",
       "        vertical-align: middle;\n",
       "    }\n",
       "\n",
       "    .dataframe tbody tr th {\n",
       "        vertical-align: top;\n",
       "    }\n",
       "\n",
       "    .dataframe thead th {\n",
       "        text-align: right;\n",
       "    }\n",
       "</style>\n",
       "<table border=\"1\" class=\"dataframe\">\n",
       "  <thead>\n",
       "    <tr style=\"text-align: right;\">\n",
       "      <th></th>\n",
       "      <th>p(alpha)</th>\n",
       "      <th>p(beta)</th>\n",
       "      <th>p(gamma)</th>\n",
       "      <th>p(delta_u)</th>\n",
       "      <th>p(delta_d)</th>\n",
       "      <th>p(lambda)</th>\n",
       "      <th>min</th>\n",
       "      <th>product</th>\n",
       "    </tr>\n",
       "  </thead>\n",
       "  <tbody>\n",
       "    <tr>\n",
       "      <th>C/O</th>\n",
       "      <td>0.174</td>\n",
       "      <td>0.386</td>\n",
       "      <td>5.650000e-07</td>\n",
       "      <td>0.222</td>\n",
       "      <td>0.297</td>\n",
       "      <td>0.141</td>\n",
       "      <td>5.650000e-07</td>\n",
       "      <td>3.527878e-10</td>\n",
       "    </tr>\n",
       "  </tbody>\n",
       "</table>\n",
       "</div>"
      ],
      "text/plain": [
       "      p(alpha)  p(beta)      p(gamma)  p(delta_u)  p(delta_d)  p(lambda)  \\\n",
       " C/O     0.174    0.386  5.650000e-07       0.222       0.297      0.141   \n",
       "\n",
       "               min       product  \n",
       " C/O  5.650000e-07  3.527878e-10  "
      ]
     },
     "execution_count": 2,
     "metadata": {},
     "output_type": "execute_result"
    }
   ],
   "source": [
    "compute_probs(H_S=[0], H_photo=[0], **H_nb)"
   ]
  },
  {
   "cell_type": "markdown",
   "metadata": {
    "colab_type": "text",
    "id": "DXKXMzbccRe3"
   },
   "source": [
    "**Older stars are not more habitable**"
   ]
  },
  {
   "cell_type": "code",
   "execution_count": 3,
   "metadata": {
    "colab": {
     "base_uri": "https://localhost:8080/",
     "height": 79
    },
    "colab_type": "code",
    "id": "s_3uysEQaSPJ",
    "outputId": "852d7215-f871-4c25-8ba8-95b17a8bbe64"
   },
   "outputs": [
    {
     "name": "stderr",
     "output_type": "stream",
     "text": [
      "1it [00:05,  5.74s/it]\n"
     ]
    },
    {
     "data": {
      "text/html": [
       "<div>\n",
       "<style scoped>\n",
       "    .dataframe tbody tr th:only-of-type {\n",
       "        vertical-align: middle;\n",
       "    }\n",
       "\n",
       "    .dataframe tbody tr th {\n",
       "        vertical-align: top;\n",
       "    }\n",
       "\n",
       "    .dataframe thead th {\n",
       "        text-align: right;\n",
       "    }\n",
       "</style>\n",
       "<table border=\"1\" class=\"dataframe\">\n",
       "  <thead>\n",
       "    <tr style=\"text-align: right;\">\n",
       "      <th></th>\n",
       "      <th>p(alpha)</th>\n",
       "      <th>p(beta)</th>\n",
       "      <th>p(gamma)</th>\n",
       "      <th>p(delta_u)</th>\n",
       "      <th>p(delta_d)</th>\n",
       "      <th>p(lambda)</th>\n",
       "      <th>min</th>\n",
       "      <th>product</th>\n",
       "    </tr>\n",
       "  </thead>\n",
       "  <tbody>\n",
       "    <tr>\n",
       "      <th>time C/O</th>\n",
       "      <td>0.125</td>\n",
       "      <td>0.303</td>\n",
       "      <td>0.00673</td>\n",
       "      <td>0.162</td>\n",
       "      <td>0.188</td>\n",
       "      <td>0.000434</td>\n",
       "      <td>0.000434</td>\n",
       "      <td>3.369227e-09</td>\n",
       "    </tr>\n",
       "  </tbody>\n",
       "</table>\n",
       "</div>"
      ],
      "text/plain": [
       "           p(alpha)  p(beta)  p(gamma)  p(delta_u)  p(delta_d)  p(lambda)  \\\n",
       " time C/O     0.125    0.303   0.00673       0.162       0.188   0.000434   \n",
       "\n",
       "                min       product  \n",
       " time C/O  0.000434  3.369227e-09  "
      ]
     },
     "execution_count": 3,
     "metadata": {},
     "output_type": "execute_result"
    }
   ],
   "source": [
    "compute_probs(H_S=[0], H_photo=[0], H_time=[1], **H_nb)"
   ]
  },
  {
   "cell_type": "markdown",
   "metadata": {
    "colab_type": "text",
    "id": "GNON9EXGcSkY"
   },
   "source": [
    "**Habitability is proportional to total entropy production**"
   ]
  },
  {
   "cell_type": "code",
   "execution_count": 4,
   "metadata": {
    "colab": {
     "base_uri": "https://localhost:8080/",
     "height": 110
    },
    "colab_type": "code",
    "id": "53s0G157aWZq",
    "outputId": "4c9503db-eb33-45ce-fdf2-d487520da544"
   },
   "outputs": [
    {
     "name": "stderr",
     "output_type": "stream",
     "text": [
      "1it [00:05,  5.50s/it]\n"
     ]
    },
    {
     "data": {
      "text/html": [
       "<div>\n",
       "<style scoped>\n",
       "    .dataframe tbody tr th:only-of-type {\n",
       "        vertical-align: middle;\n",
       "    }\n",
       "\n",
       "    .dataframe tbody tr th {\n",
       "        vertical-align: top;\n",
       "    }\n",
       "\n",
       "    .dataframe thead th {\n",
       "        text-align: right;\n",
       "    }\n",
       "</style>\n",
       "<table border=\"1\" class=\"dataframe\">\n",
       "  <thead>\n",
       "    <tr style=\"text-align: right;\">\n",
       "      <th></th>\n",
       "      <th>p(alpha)</th>\n",
       "      <th>p(beta)</th>\n",
       "      <th>p(gamma)</th>\n",
       "      <th>p(delta_u)</th>\n",
       "      <th>p(delta_d)</th>\n",
       "      <th>p(lambda)</th>\n",
       "      <th>min</th>\n",
       "      <th>product</th>\n",
       "    </tr>\n",
       "  </thead>\n",
       "  <tbody>\n",
       "    <tr>\n",
       "      <th>yellow S C/O</th>\n",
       "      <td>0.224</td>\n",
       "      <td>0.194</td>\n",
       "      <td>0.262</td>\n",
       "      <td>0.279</td>\n",
       "      <td>0.354</td>\n",
       "      <td>0.425</td>\n",
       "      <td>0.194</td>\n",
       "      <td>0.000478</td>\n",
       "    </tr>\n",
       "  </tbody>\n",
       "</table>\n",
       "</div>"
      ],
      "text/plain": [
       "              p(alpha)  p(beta)  p(gamma)  p(delta_u)  p(delta_d)  p(lambda)  \\\n",
       "yellow S C/O     0.224    0.194     0.262       0.279       0.354      0.425   \n",
       "\n",
       "                min   product  \n",
       "yellow S C/O  0.194  0.000478  "
      ]
     },
     "execution_count": 4,
     "metadata": {},
     "output_type": "execute_result"
    }
   ],
   "source": [
    "compute_probs(**H_nb)"
   ]
  },
  {
   "cell_type": "markdown",
   "metadata": {
    "colab_type": "text",
    "id": "NOhC0SP4cTXL"
   },
   "source": [
    "**Photosynthesis is necessary for complex life**"
   ]
  },
  {
   "cell_type": "code",
   "execution_count": 5,
   "metadata": {
    "colab": {
     "base_uri": "https://localhost:8080/",
     "height": 233
    },
    "colab_type": "code",
    "id": "JZmk_gARapEN",
    "outputId": "5a49af76-e7b3-4cd9-b36a-19275f5cac07"
   },
   "outputs": [
    {
     "name": "stderr",
     "output_type": "stream",
     "text": [
      "3it [00:16,  5.47s/it]\n"
     ]
    },
    {
     "data": {
      "text/html": [
       "<div>\n",
       "<style scoped>\n",
       "    .dataframe tbody tr th:only-of-type {\n",
       "        vertical-align: middle;\n",
       "    }\n",
       "\n",
       "    .dataframe tbody tr th {\n",
       "        vertical-align: top;\n",
       "    }\n",
       "\n",
       "    .dataframe thead th {\n",
       "        text-align: right;\n",
       "    }\n",
       "</style>\n",
       "<table border=\"1\" class=\"dataframe\">\n",
       "  <thead>\n",
       "    <tr style=\"text-align: right;\">\n",
       "      <th></th>\n",
       "      <th>p(alpha)</th>\n",
       "      <th>p(beta)</th>\n",
       "      <th>p(gamma)</th>\n",
       "      <th>p(delta_u)</th>\n",
       "      <th>p(delta_d)</th>\n",
       "      <th>p(lambda)</th>\n",
       "      <th>min</th>\n",
       "      <th>product</th>\n",
       "    </tr>\n",
       "  </thead>\n",
       "  <tbody>\n",
       "    <tr>\n",
       "      <th>S C/O</th>\n",
       "      <td>0.0121</td>\n",
       "      <td>0.0189</td>\n",
       "      <td>0.0431</td>\n",
       "      <td>0.028</td>\n",
       "      <td>0.0197</td>\n",
       "      <td>0.00013</td>\n",
       "      <td>0.00013</td>\n",
       "      <td>7.067927e-13</td>\n",
       "    </tr>\n",
       "    <tr>\n",
       "      <th>photo S C/O</th>\n",
       "      <td>0.1910</td>\n",
       "      <td>0.3080</td>\n",
       "      <td>0.3080</td>\n",
       "      <td>0.247</td>\n",
       "      <td>0.3190</td>\n",
       "      <td>0.02390</td>\n",
       "      <td>0.02390</td>\n",
       "      <td>3.412089e-05</td>\n",
       "    </tr>\n",
       "    <tr>\n",
       "      <th>yellow S C/O</th>\n",
       "      <td>0.2240</td>\n",
       "      <td>0.1940</td>\n",
       "      <td>0.2620</td>\n",
       "      <td>0.279</td>\n",
       "      <td>0.3540</td>\n",
       "      <td>0.42500</td>\n",
       "      <td>0.19400</td>\n",
       "      <td>4.779114e-04</td>\n",
       "    </tr>\n",
       "  </tbody>\n",
       "</table>\n",
       "</div>"
      ],
      "text/plain": [
       "              p(alpha)  p(beta)  p(gamma)  p(delta_u)  p(delta_d)  p(lambda)  \\\n",
       " S C/O          0.0121   0.0189    0.0431       0.028      0.0197    0.00013   \n",
       " photo S C/O    0.1910   0.3080    0.3080       0.247      0.3190    0.02390   \n",
       "yellow S C/O    0.2240   0.1940    0.2620       0.279      0.3540    0.42500   \n",
       "\n",
       "                  min       product  \n",
       " S C/O        0.00013  7.067927e-13  \n",
       " photo S C/O  0.02390  3.412089e-05  \n",
       "yellow S C/O  0.19400  4.779114e-04  "
      ]
     },
     "execution_count": 5,
     "metadata": {},
     "output_type": "execute_result"
    }
   ],
   "source": [
    "compute_probs(H_photo=[0,1,2], **H_nb)"
   ]
  },
  {
   "cell_type": "markdown",
   "metadata": {
    "colab_type": "text",
    "id": "5W7j2_tWcUNe"
   },
   "source": [
    "**No strong predictions for planet frequency, size, or orbit**\n",
    "\n"
   ]
  },
  {
   "cell_type": "code",
   "execution_count": 6,
   "metadata": {
    "colab": {
     "base_uri": "https://localhost:8080/",
     "height": 233
    },
    "colab_type": "code",
    "id": "bRfOyTK9au9v",
    "outputId": "c753ffa7-2549-4b7f-fb98-f245cb9aee79"
   },
   "outputs": [
    {
     "name": "stderr",
     "output_type": "stream",
     "text": [
      "6it [00:40,  6.75s/it]\n"
     ]
    },
    {
     "data": {
      "text/html": [
       "<div>\n",
       "<style scoped>\n",
       "    .dataframe tbody tr th:only-of-type {\n",
       "        vertical-align: middle;\n",
       "    }\n",
       "\n",
       "    .dataframe tbody tr th {\n",
       "        vertical-align: top;\n",
       "    }\n",
       "\n",
       "    .dataframe thead th {\n",
       "        text-align: right;\n",
       "    }\n",
       "</style>\n",
       "<table border=\"1\" class=\"dataframe\">\n",
       "  <thead>\n",
       "    <tr style=\"text-align: right;\">\n",
       "      <th></th>\n",
       "      <th>p(alpha)</th>\n",
       "      <th>p(beta)</th>\n",
       "      <th>p(gamma)</th>\n",
       "      <th>p(delta_u)</th>\n",
       "      <th>p(delta_d)</th>\n",
       "      <th>p(lambda)</th>\n",
       "      <th>min</th>\n",
       "      <th>product</th>\n",
       "    </tr>\n",
       "  </thead>\n",
       "  <tbody>\n",
       "    <tr>\n",
       "      <th>yellow S C/O</th>\n",
       "      <td>0.224</td>\n",
       "      <td>0.1940</td>\n",
       "      <td>0.2620</td>\n",
       "      <td>0.279</td>\n",
       "      <td>0.354</td>\n",
       "      <td>0.425</td>\n",
       "      <td>0.1940</td>\n",
       "      <td>0.000478</td>\n",
       "    </tr>\n",
       "    <tr>\n",
       "      <th>yellow temp S C/O</th>\n",
       "      <td>0.197</td>\n",
       "      <td>0.3010</td>\n",
       "      <td>0.1110</td>\n",
       "      <td>0.250</td>\n",
       "      <td>0.322</td>\n",
       "      <td>0.339</td>\n",
       "      <td>0.1110</td>\n",
       "      <td>0.000180</td>\n",
       "    </tr>\n",
       "    <tr>\n",
       "      <th>yellow  GI S C/O</th>\n",
       "      <td>0.263</td>\n",
       "      <td>0.0646</td>\n",
       "      <td>0.0726</td>\n",
       "      <td>0.323</td>\n",
       "      <td>0.384</td>\n",
       "      <td>0.307</td>\n",
       "      <td>0.0646</td>\n",
       "      <td>0.000047</td>\n",
       "    </tr>\n",
       "    <tr>\n",
       "      <th>yellow  GI temp S C/O</th>\n",
       "      <td>0.235</td>\n",
       "      <td>0.0621</td>\n",
       "      <td>0.0531</td>\n",
       "      <td>0.292</td>\n",
       "      <td>0.372</td>\n",
       "      <td>0.241</td>\n",
       "      <td>0.0531</td>\n",
       "      <td>0.000020</td>\n",
       "    </tr>\n",
       "    <tr>\n",
       "      <th>yellow  iso S C/O</th>\n",
       "      <td>0.237</td>\n",
       "      <td>0.1280</td>\n",
       "      <td>0.3110</td>\n",
       "      <td>0.295</td>\n",
       "      <td>0.369</td>\n",
       "      <td>0.453</td>\n",
       "      <td>0.1280</td>\n",
       "      <td>0.000465</td>\n",
       "    </tr>\n",
       "    <tr>\n",
       "      <th>yellow  iso temp S C/O</th>\n",
       "      <td>0.205</td>\n",
       "      <td>0.2070</td>\n",
       "      <td>0.1680</td>\n",
       "      <td>0.261</td>\n",
       "      <td>0.340</td>\n",
       "      <td>0.364</td>\n",
       "      <td>0.1680</td>\n",
       "      <td>0.000230</td>\n",
       "    </tr>\n",
       "  </tbody>\n",
       "</table>\n",
       "</div>"
      ],
      "text/plain": [
       "                        p(alpha)  p(beta)  p(gamma)  p(delta_u)  p(delta_d)  \\\n",
       "yellow S C/O               0.224   0.1940    0.2620       0.279       0.354   \n",
       "yellow temp S C/O          0.197   0.3010    0.1110       0.250       0.322   \n",
       "yellow  GI S C/O           0.263   0.0646    0.0726       0.323       0.384   \n",
       "yellow  GI temp S C/O      0.235   0.0621    0.0531       0.292       0.372   \n",
       "yellow  iso S C/O          0.237   0.1280    0.3110       0.295       0.369   \n",
       "yellow  iso temp S C/O     0.205   0.2070    0.1680       0.261       0.340   \n",
       "\n",
       "                        p(lambda)     min   product  \n",
       "yellow S C/O                0.425  0.1940  0.000478  \n",
       "yellow temp S C/O           0.339  0.1110  0.000180  \n",
       "yellow  GI S C/O            0.307  0.0646  0.000047  \n",
       "yellow  GI temp S C/O       0.241  0.0531  0.000020  \n",
       "yellow  iso S C/O           0.453  0.1280  0.000465  \n",
       "yellow  iso temp S C/O      0.364  0.1680  0.000230  "
      ]
     },
     "execution_count": 6,
     "metadata": {},
     "output_type": "execute_result"
    }
   ],
   "source": [
    "compute_probs(H_temp=[0,1], H_terr=[0,1,2], **H_nb)"
   ]
  },
  {
   "cell_type": "markdown",
   "metadata": {
    "colab_type": "text",
    "id": "B63CyC6tb3Nd"
   },
   "source": [
    "**Superearths are not superhabitable**"
   ]
  },
  {
   "cell_type": "code",
   "execution_count": 7,
   "metadata": {
    "colab": {
     "base_uri": "https://localhost:8080/",
     "height": 294
    },
    "colab_type": "code",
    "id": "tuwBmMRFa-cl",
    "outputId": "30032b55-b37f-4c7b-9efa-1a3a0d815e91"
   },
   "outputs": [
    {
     "name": "stderr",
     "output_type": "stream",
     "text": [
      "8it [00:47,  5.97s/it]\n"
     ]
    },
    {
     "data": {
      "text/html": [
       "<div>\n",
       "<style scoped>\n",
       "    .dataframe tbody tr th:only-of-type {\n",
       "        vertical-align: middle;\n",
       "    }\n",
       "\n",
       "    .dataframe tbody tr th {\n",
       "        vertical-align: top;\n",
       "    }\n",
       "\n",
       "    .dataframe thead th {\n",
       "        text-align: right;\n",
       "    }\n",
       "</style>\n",
       "<table border=\"1\" class=\"dataframe\">\n",
       "  <thead>\n",
       "    <tr style=\"text-align: right;\">\n",
       "      <th></th>\n",
       "      <th>p(alpha)</th>\n",
       "      <th>p(beta)</th>\n",
       "      <th>p(gamma)</th>\n",
       "      <th>p(delta_u)</th>\n",
       "      <th>p(delta_d)</th>\n",
       "      <th>p(lambda)</th>\n",
       "      <th>min</th>\n",
       "      <th>product</th>\n",
       "    </tr>\n",
       "  </thead>\n",
       "  <tbody>\n",
       "    <tr>\n",
       "      <th>yellow area C/O</th>\n",
       "      <td>0.149</td>\n",
       "      <td>0.45300</td>\n",
       "      <td>0.16300</td>\n",
       "      <td>0.194</td>\n",
       "      <td>0.261</td>\n",
       "      <td>0.586</td>\n",
       "      <td>0.14900</td>\n",
       "      <td>3.264464e-04</td>\n",
       "    </tr>\n",
       "    <tr>\n",
       "      <th>yellow area S C/O</th>\n",
       "      <td>0.217</td>\n",
       "      <td>0.00242</td>\n",
       "      <td>0.00283</td>\n",
       "      <td>0.316</td>\n",
       "      <td>0.315</td>\n",
       "      <td>0.425</td>\n",
       "      <td>0.00242</td>\n",
       "      <td>6.287067e-08</td>\n",
       "    </tr>\n",
       "    <tr>\n",
       "      <th>yellow temp area C/O</th>\n",
       "      <td>0.124</td>\n",
       "      <td>0.44000</td>\n",
       "      <td>0.06100</td>\n",
       "      <td>0.166</td>\n",
       "      <td>0.231</td>\n",
       "      <td>0.489</td>\n",
       "      <td>0.06100</td>\n",
       "      <td>6.240697e-05</td>\n",
       "    </tr>\n",
       "    <tr>\n",
       "      <th>yellow temp area S C/O</th>\n",
       "      <td>0.193</td>\n",
       "      <td>0.00331</td>\n",
       "      <td>0.00509</td>\n",
       "      <td>0.288</td>\n",
       "      <td>0.329</td>\n",
       "      <td>0.339</td>\n",
       "      <td>0.00331</td>\n",
       "      <td>1.044458e-07</td>\n",
       "    </tr>\n",
       "    <tr>\n",
       "      <th>yellow  GI area C/O</th>\n",
       "      <td>0.188</td>\n",
       "      <td>0.27600</td>\n",
       "      <td>0.04120</td>\n",
       "      <td>0.234</td>\n",
       "      <td>0.319</td>\n",
       "      <td>0.440</td>\n",
       "      <td>0.04120</td>\n",
       "      <td>7.021394e-05</td>\n",
       "    </tr>\n",
       "    <tr>\n",
       "      <th>yellow  GI area S C/O</th>\n",
       "      <td>0.362</td>\n",
       "      <td>0.04970</td>\n",
       "      <td>0.35500</td>\n",
       "      <td>0.343</td>\n",
       "      <td>0.444</td>\n",
       "      <td>0.307</td>\n",
       "      <td>0.04970</td>\n",
       "      <td>2.986130e-04</td>\n",
       "    </tr>\n",
       "    <tr>\n",
       "      <th>yellow  GI temp area C/O</th>\n",
       "      <td>0.163</td>\n",
       "      <td>0.26500</td>\n",
       "      <td>0.02980</td>\n",
       "      <td>0.208</td>\n",
       "      <td>0.310</td>\n",
       "      <td>0.357</td>\n",
       "      <td>0.02980</td>\n",
       "      <td>2.963077e-05</td>\n",
       "    </tr>\n",
       "    <tr>\n",
       "      <th>yellow  GI temp area S C/O</th>\n",
       "      <td>0.414</td>\n",
       "      <td>0.04930</td>\n",
       "      <td>0.41900</td>\n",
       "      <td>0.389</td>\n",
       "      <td>0.485</td>\n",
       "      <td>0.241</td>\n",
       "      <td>0.04930</td>\n",
       "      <td>3.888389e-04</td>\n",
       "    </tr>\n",
       "  </tbody>\n",
       "</table>\n",
       "</div>"
      ],
      "text/plain": [
       "                            p(alpha)  p(beta)  p(gamma)  p(delta_u)  \\\n",
       "yellow area C/O                0.149  0.45300   0.16300       0.194   \n",
       "yellow area S C/O              0.217  0.00242   0.00283       0.316   \n",
       "yellow temp area C/O           0.124  0.44000   0.06100       0.166   \n",
       "yellow temp area S C/O         0.193  0.00331   0.00509       0.288   \n",
       "yellow  GI area C/O            0.188  0.27600   0.04120       0.234   \n",
       "yellow  GI area S C/O          0.362  0.04970   0.35500       0.343   \n",
       "yellow  GI temp area C/O       0.163  0.26500   0.02980       0.208   \n",
       "yellow  GI temp area S C/O     0.414  0.04930   0.41900       0.389   \n",
       "\n",
       "                            p(delta_d)  p(lambda)      min       product  \n",
       "yellow area C/O                  0.261      0.586  0.14900  3.264464e-04  \n",
       "yellow area S C/O                0.315      0.425  0.00242  6.287067e-08  \n",
       "yellow temp area C/O             0.231      0.489  0.06100  6.240697e-05  \n",
       "yellow temp area S C/O           0.329      0.339  0.00331  1.044458e-07  \n",
       "yellow  GI area C/O              0.319      0.440  0.04120  7.021394e-05  \n",
       "yellow  GI area S C/O            0.444      0.307  0.04970  2.986130e-04  \n",
       "yellow  GI temp area C/O         0.310      0.357  0.02980  2.963077e-05  \n",
       "yellow  GI temp area S C/O       0.485      0.241  0.04930  3.888389e-04  "
      ]
     },
     "execution_count": 7,
     "metadata": {},
     "output_type": "execute_result"
    }
   ],
   "source": [
    "compute_probs(H_area=[1], H_S=[0,1], H_temp=[0,1], \n",
    "              H_terr=[0,1],**H_nb)"
   ]
  },
  {
   "cell_type": "markdown",
   "metadata": {
    "colab_type": "text",
    "id": "dotB-Wf9cVuv"
   },
   "source": [
    "**Habitability is not determined by nutrient flux**\n"
   ]
  },
  {
   "cell_type": "code",
   "execution_count": 8,
   "metadata": {
    "colab": {
     "base_uri": "https://localhost:8080/",
     "height": 110
    },
    "colab_type": "code",
    "id": "T3Iqxlc_bKU3",
    "outputId": "671bf0db-18d7-4c68-e518-6f52b7611b04"
   },
   "outputs": [
    {
     "name": "stderr",
     "output_type": "stream",
     "text": [
      "2it [00:10,  5.25s/it]\n"
     ]
    },
    {
     "data": {
      "text/html": [
       "<div>\n",
       "<style scoped>\n",
       "    .dataframe tbody tr th:only-of-type {\n",
       "        vertical-align: middle;\n",
       "    }\n",
       "\n",
       "    .dataframe tbody tr th {\n",
       "        vertical-align: top;\n",
       "    }\n",
       "\n",
       "    .dataframe thead th {\n",
       "        text-align: right;\n",
       "    }\n",
       "</style>\n",
       "<table border=\"1\" class=\"dataframe\">\n",
       "  <thead>\n",
       "    <tr style=\"text-align: right;\">\n",
       "      <th></th>\n",
       "      <th>p(alpha)</th>\n",
       "      <th>p(beta)</th>\n",
       "      <th>p(gamma)</th>\n",
       "      <th>p(delta_u)</th>\n",
       "      <th>p(delta_d)</th>\n",
       "      <th>p(lambda)</th>\n",
       "      <th>min</th>\n",
       "      <th>product</th>\n",
       "    </tr>\n",
       "  </thead>\n",
       "  <tbody>\n",
       "    <tr>\n",
       "      <th>C C/O</th>\n",
       "      <td>0.0713</td>\n",
       "      <td>0.134</td>\n",
       "      <td>0.3300</td>\n",
       "      <td>0.100</td>\n",
       "      <td>0.106</td>\n",
       "      <td>0.000434</td>\n",
       "      <td>0.000434</td>\n",
       "      <td>1.450454e-08</td>\n",
       "    </tr>\n",
       "    <tr>\n",
       "      <th>TL C C/O</th>\n",
       "      <td>0.2990</td>\n",
       "      <td>0.177</td>\n",
       "      <td>0.0174</td>\n",
       "      <td>0.352</td>\n",
       "      <td>0.396</td>\n",
       "      <td>0.572000</td>\n",
       "      <td>0.017400</td>\n",
       "      <td>7.342223e-05</td>\n",
       "    </tr>\n",
       "  </tbody>\n",
       "</table>\n",
       "</div>"
      ],
      "text/plain": [
       "           p(alpha)  p(beta)  p(gamma)  p(delta_u)  p(delta_d)  p(lambda)  \\\n",
       " C C/O       0.0713    0.134    0.3300       0.100       0.106   0.000434   \n",
       " TL C C/O    0.2990    0.177    0.0174       0.352       0.396   0.572000   \n",
       "\n",
       "                min       product  \n",
       " C C/O     0.000434  1.450454e-08  \n",
       " TL C C/O  0.017400  7.342223e-05  "
      ]
     },
     "execution_count": 8,
     "metadata": {},
     "output_type": "execute_result"
    }
   ],
   "source": [
    "compute_probs(H_photo=[0], H_S=[2], H_TL=[0,1], **H_nb)"
   ]
  },
  {
   "cell_type": "markdown",
   "metadata": {
    "colab_type": "text",
    "id": "yYAVvFzvcKFc"
   },
   "source": [
    "**Life does not need radiogenic plate tectonics**"
   ]
  },
  {
   "cell_type": "code",
   "execution_count": 9,
   "metadata": {
    "colab": {
     "base_uri": "https://localhost:8080/",
     "height": 110
    },
    "colab_type": "code",
    "id": "6KpUXNiobwJY",
    "outputId": "c0d9c4c8-0b0d-4437-f838-5787dc6a870d"
   },
   "outputs": [
    {
     "name": "stderr",
     "output_type": "stream",
     "text": [
      "2it [01:13, 36.68s/it]\n"
     ]
    },
    {
     "data": {
      "text/html": [
       "<div>\n",
       "<style scoped>\n",
       "    .dataframe tbody tr th:only-of-type {\n",
       "        vertical-align: middle;\n",
       "    }\n",
       "\n",
       "    .dataframe tbody tr th {\n",
       "        vertical-align: top;\n",
       "    }\n",
       "\n",
       "    .dataframe thead th {\n",
       "        text-align: right;\n",
       "    }\n",
       "</style>\n",
       "<table border=\"1\" class=\"dataframe\">\n",
       "  <thead>\n",
       "    <tr style=\"text-align: right;\">\n",
       "      <th></th>\n",
       "      <th>p(alpha)</th>\n",
       "      <th>p(beta)</th>\n",
       "      <th>p(gamma)</th>\n",
       "      <th>p(delta_u)</th>\n",
       "      <th>p(delta_d)</th>\n",
       "      <th>p(lambda)</th>\n",
       "      <th>min</th>\n",
       "      <th>product</th>\n",
       "    </tr>\n",
       "  </thead>\n",
       "  <tbody>\n",
       "    <tr>\n",
       "      <th>yellow S C/O</th>\n",
       "      <td>0.224</td>\n",
       "      <td>0.194</td>\n",
       "      <td>0.262</td>\n",
       "      <td>0.279</td>\n",
       "      <td>0.354</td>\n",
       "      <td>0.425</td>\n",
       "      <td>0.194</td>\n",
       "      <td>0.000478</td>\n",
       "    </tr>\n",
       "    <tr>\n",
       "      <th>yellow plates S C/O</th>\n",
       "      <td>0.040</td>\n",
       "      <td>0.207</td>\n",
       "      <td>0.243</td>\n",
       "      <td>0.181</td>\n",
       "      <td>0.419</td>\n",
       "      <td>0.424</td>\n",
       "      <td>0.040</td>\n",
       "      <td>0.000065</td>\n",
       "    </tr>\n",
       "  </tbody>\n",
       "</table>\n",
       "</div>"
      ],
      "text/plain": [
       "                     p(alpha)  p(beta)  p(gamma)  p(delta_u)  p(delta_d)  \\\n",
       "yellow S C/O            0.224    0.194     0.262       0.279       0.354   \n",
       "yellow plates S C/O     0.040    0.207     0.243       0.181       0.419   \n",
       "\n",
       "                     p(lambda)    min   product  \n",
       "yellow S C/O             0.425  0.194  0.000478  \n",
       "yellow plates S C/O      0.424  0.040  0.000065  "
      ]
     },
     "execution_count": 9,
     "metadata": {},
     "output_type": "execute_result"
    }
   ],
   "source": [
    "compute_probs(H_S=[1], H_plates=[0,1], **H_nb)"
   ]
  },
  {
   "cell_type": "markdown",
   "metadata": {
    "colab_type": "text",
    "id": "EH03dECrc_ph"
   },
   "source": [
    "**Red dwarf stars cannot support life**"
   ]
  },
  {
   "cell_type": "code",
   "execution_count": 10,
   "metadata": {
    "colab": {
     "base_uri": "https://localhost:8080/",
     "height": 233
    },
    "colab_type": "code",
    "id": "cVBRerxZb3U_",
    "outputId": "20b76595-40a0-4ae8-e1eb-7ab5b27b22c8"
   },
   "outputs": [
    {
     "name": "stderr",
     "output_type": "stream",
     "text": [
      "100%|████████████████████████████████████████████████████████████████████████████████████████████████████████████████████████| 2/2 [00:10<00:00,  5.31s/it]\n"
     ]
    },
    {
     "data": {
      "text/html": [
       "<div>\n",
       "<style scoped>\n",
       "    .dataframe tbody tr th:only-of-type {\n",
       "        vertical-align: middle;\n",
       "    }\n",
       "\n",
       "    .dataframe tbody tr th {\n",
       "        vertical-align: top;\n",
       "    }\n",
       "\n",
       "    .dataframe thead th {\n",
       "        text-align: right;\n",
       "    }\n",
       "</style>\n",
       "<table border=\"1\" class=\"dataframe\">\n",
       "  <thead>\n",
       "    <tr style=\"text-align: right;\">\n",
       "      <th></th>\n",
       "      <th>p(alpha)</th>\n",
       "      <th>p(beta)</th>\n",
       "      <th>p(gamma)</th>\n",
       "      <th>p(delta_u)</th>\n",
       "      <th>p(delta_d)</th>\n",
       "      <th>p(lambda)</th>\n",
       "      <th>min</th>\n",
       "      <th>product</th>\n",
       "    </tr>\n",
       "  </thead>\n",
       "  <tbody>\n",
       "    <tr>\n",
       "      <th>photo S C/O</th>\n",
       "      <td>0.191</td>\n",
       "      <td>0.308</td>\n",
       "      <td>0.308</td>\n",
       "      <td>0.247</td>\n",
       "      <td>0.319</td>\n",
       "      <td>0.0239</td>\n",
       "      <td>0.0239</td>\n",
       "      <td>0.000034</td>\n",
       "    </tr>\n",
       "    <tr>\n",
       "      <th>yellow S C/O</th>\n",
       "      <td>0.224</td>\n",
       "      <td>0.194</td>\n",
       "      <td>0.262</td>\n",
       "      <td>0.279</td>\n",
       "      <td>0.354</td>\n",
       "      <td>0.4250</td>\n",
       "      <td>0.1940</td>\n",
       "      <td>0.000478</td>\n",
       "    </tr>\n",
       "  </tbody>\n",
       "</table>\n",
       "</div>"
      ],
      "text/plain": [
       "              p(alpha)  p(beta)  p(gamma)  p(delta_u)  p(delta_d)  p(lambda)  \\\n",
       " photo S C/O     0.191    0.308     0.308       0.247       0.319     0.0239   \n",
       "yellow S C/O     0.224    0.194     0.262       0.279       0.354     0.4250   \n",
       "\n",
       "                 min   product  \n",
       " photo S C/O  0.0239  0.000034  \n",
       "yellow S C/O  0.1940  0.000478  "
      ]
     },
     "execution_count": 10,
     "metadata": {},
     "output_type": "execute_result"
    }
   ],
   "source": [
    "compute_probs(H_S=[1], H_photo=[1,2], H_TL=[0,1], \n",
    "              H_conv=[0,1], max_P=3, **H_nb)"
   ]
  },
  {
   "cell_type": "markdown",
   "metadata": {
    "colab_type": "text",
    "id": "qQfMKqT2dA94"
   },
   "source": [
    "**The hard step model of intelligence cannot be true**"
   ]
  },
  {
   "cell_type": "code",
   "execution_count": 11,
   "metadata": {
    "colab": {
     "base_uri": "https://localhost:8080/",
     "height": 79
    },
    "colab_type": "code",
    "id": "Awpr4sZhcBN0",
    "outputId": "70f31c4c-f521-4931-ebee-5ebc9fa925ab"
   },
   "outputs": [
    {
     "name": "stderr",
     "output_type": "stream",
     "text": [
      "1it [00:05,  5.19s/it]\n"
     ]
    },
    {
     "data": {
      "text/html": [
       "<div>\n",
       "<style scoped>\n",
       "    .dataframe tbody tr th:only-of-type {\n",
       "        vertical-align: middle;\n",
       "    }\n",
       "\n",
       "    .dataframe tbody tr th {\n",
       "        vertical-align: top;\n",
       "    }\n",
       "\n",
       "    .dataframe thead th {\n",
       "        text-align: right;\n",
       "    }\n",
       "</style>\n",
       "<table border=\"1\" class=\"dataframe\">\n",
       "  <thead>\n",
       "    <tr style=\"text-align: right;\">\n",
       "      <th></th>\n",
       "      <th>p(alpha)</th>\n",
       "      <th>p(beta)</th>\n",
       "      <th>p(gamma)</th>\n",
       "      <th>p(delta_u)</th>\n",
       "      <th>p(delta_d)</th>\n",
       "      <th>p(lambda)</th>\n",
       "      <th>min</th>\n",
       "      <th>product</th>\n",
       "    </tr>\n",
       "  </thead>\n",
       "  <tbody>\n",
       "    <tr>\n",
       "      <th>time C/O</th>\n",
       "      <td>0.0261</td>\n",
       "      <td>0.00652</td>\n",
       "      <td>0.000009</td>\n",
       "      <td>0.0662</td>\n",
       "      <td>0.0253</td>\n",
       "      <td>1.390000e-12</td>\n",
       "      <td>1.390000e-12</td>\n",
       "      <td>3.478371e-24</td>\n",
       "    </tr>\n",
       "  </tbody>\n",
       "</table>\n",
       "</div>"
      ],
      "text/plain": [
       "           p(alpha)  p(beta)  p(gamma)  p(delta_u)  p(delta_d)     p(lambda)  \\\n",
       " time C/O    0.0261  0.00652  0.000009      0.0662      0.0253  1.390000e-12   \n",
       "\n",
       "                    min       product  \n",
       " time C/O  1.390000e-12  3.478371e-24  "
      ]
     },
     "execution_count": 11,
     "metadata": {},
     "output_type": "execute_result"
    }
   ],
   "source": [
    "compute_probs(H_time=[1], H_S=[0], H_photo=[0],\n",
    "              n_hard=4, **H_nb)"
   ]
  },
  {
   "cell_type": "markdown",
   "metadata": {
    "colab_type": "text",
    "id": "I2cVNW48dKbW"
   },
   "source": [
    "**Gamma ray bursts do not affect life**"
   ]
  },
  {
   "cell_type": "code",
   "execution_count": 12,
   "metadata": {
    "colab": {
     "base_uri": "https://localhost:8080/",
     "height": 539
    },
    "colab_type": "code",
    "id": "8R_hWnh9cQaK",
    "outputId": "7ea39dd6-4243-4839-cac4-4ef624d57c59"
   },
   "outputs": [
    {
     "name": "stderr",
     "output_type": "stream",
     "text": [
      "16it [02:31,  9.50s/it]\n"
     ]
    },
    {
     "data": {
      "text/html": [
       "<div>\n",
       "<style scoped>\n",
       "    .dataframe tbody tr th:only-of-type {\n",
       "        vertical-align: middle;\n",
       "    }\n",
       "\n",
       "    .dataframe tbody tr th {\n",
       "        vertical-align: top;\n",
       "    }\n",
       "\n",
       "    .dataframe thead th {\n",
       "        text-align: right;\n",
       "    }\n",
       "</style>\n",
       "<table border=\"1\" class=\"dataframe\">\n",
       "  <thead>\n",
       "    <tr style=\"text-align: right;\">\n",
       "      <th></th>\n",
       "      <th>p(alpha)</th>\n",
       "      <th>p(beta)</th>\n",
       "      <th>p(gamma)</th>\n",
       "      <th>p(delta_u)</th>\n",
       "      <th>p(delta_d)</th>\n",
       "      <th>p(lambda)</th>\n",
       "      <th>min</th>\n",
       "      <th>product</th>\n",
       "    </tr>\n",
       "  </thead>\n",
       "  <tbody>\n",
       "    <tr>\n",
       "      <th>yellow S setback C/O</th>\n",
       "      <td>0.224</td>\n",
       "      <td>0.194</td>\n",
       "      <td>0.26200</td>\n",
       "      <td>0.279</td>\n",
       "      <td>0.354</td>\n",
       "      <td>0.425</td>\n",
       "      <td>0.19400</td>\n",
       "      <td>0.000478</td>\n",
       "    </tr>\n",
       "    <tr>\n",
       "      <th>yellow S setback vol C/O</th>\n",
       "      <td>0.200</td>\n",
       "      <td>0.212</td>\n",
       "      <td>0.20400</td>\n",
       "      <td>0.255</td>\n",
       "      <td>0.350</td>\n",
       "      <td>0.419</td>\n",
       "      <td>0.20000</td>\n",
       "      <td>0.000323</td>\n",
       "    </tr>\n",
       "    <tr>\n",
       "      <th>yellow S setback glac C/O</th>\n",
       "      <td>0.184</td>\n",
       "      <td>0.215</td>\n",
       "      <td>0.20500</td>\n",
       "      <td>0.239</td>\n",
       "      <td>0.349</td>\n",
       "      <td>0.425</td>\n",
       "      <td>0.18400</td>\n",
       "      <td>0.000287</td>\n",
       "    </tr>\n",
       "    <tr>\n",
       "      <th>yellow S setback glac vol C/O</th>\n",
       "      <td>0.189</td>\n",
       "      <td>0.214</td>\n",
       "      <td>0.20100</td>\n",
       "      <td>0.244</td>\n",
       "      <td>0.350</td>\n",
       "      <td>0.422</td>\n",
       "      <td>0.18900</td>\n",
       "      <td>0.000293</td>\n",
       "    </tr>\n",
       "    <tr>\n",
       "      <th>yellow S setback grbs C/O</th>\n",
       "      <td>0.193</td>\n",
       "      <td>0.326</td>\n",
       "      <td>0.00701</td>\n",
       "      <td>0.245</td>\n",
       "      <td>0.311</td>\n",
       "      <td>0.411</td>\n",
       "      <td>0.00701</td>\n",
       "      <td>0.000014</td>\n",
       "    </tr>\n",
       "    <tr>\n",
       "      <th>yellow S setback grbs vol C/O</th>\n",
       "      <td>0.197</td>\n",
       "      <td>0.307</td>\n",
       "      <td>0.01020</td>\n",
       "      <td>0.250</td>\n",
       "      <td>0.316</td>\n",
       "      <td>0.415</td>\n",
       "      <td>0.01020</td>\n",
       "      <td>0.000020</td>\n",
       "    </tr>\n",
       "    <tr>\n",
       "      <th>yellow S setback grbs glac C/O</th>\n",
       "      <td>0.195</td>\n",
       "      <td>0.309</td>\n",
       "      <td>0.01030</td>\n",
       "      <td>0.248</td>\n",
       "      <td>0.315</td>\n",
       "      <td>0.418</td>\n",
       "      <td>0.01030</td>\n",
       "      <td>0.000020</td>\n",
       "    </tr>\n",
       "    <tr>\n",
       "      <th>yellow S setback grbs glac vol C/O</th>\n",
       "      <td>0.198</td>\n",
       "      <td>0.298</td>\n",
       "      <td>0.01440</td>\n",
       "      <td>0.251</td>\n",
       "      <td>0.319</td>\n",
       "      <td>0.418</td>\n",
       "      <td>0.01440</td>\n",
       "      <td>0.000028</td>\n",
       "    </tr>\n",
       "    <tr>\n",
       "      <th>yellow S setback comets C/O</th>\n",
       "      <td>0.197</td>\n",
       "      <td>0.383</td>\n",
       "      <td>0.01440</td>\n",
       "      <td>0.247</td>\n",
       "      <td>0.303</td>\n",
       "      <td>0.432</td>\n",
       "      <td>0.01440</td>\n",
       "      <td>0.000035</td>\n",
       "    </tr>\n",
       "    <tr>\n",
       "      <th>yellow S setback comets vol C/O</th>\n",
       "      <td>0.202</td>\n",
       "      <td>0.347</td>\n",
       "      <td>0.02290</td>\n",
       "      <td>0.254</td>\n",
       "      <td>0.310</td>\n",
       "      <td>0.426</td>\n",
       "      <td>0.02290</td>\n",
       "      <td>0.000054</td>\n",
       "    </tr>\n",
       "    <tr>\n",
       "      <th>yellow S setback comets glac C/O</th>\n",
       "      <td>0.201</td>\n",
       "      <td>0.348</td>\n",
       "      <td>0.02500</td>\n",
       "      <td>0.253</td>\n",
       "      <td>0.309</td>\n",
       "      <td>0.428</td>\n",
       "      <td>0.02500</td>\n",
       "      <td>0.000059</td>\n",
       "    </tr>\n",
       "    <tr>\n",
       "      <th>yellow S setback comets glac vol C/O</th>\n",
       "      <td>0.203</td>\n",
       "      <td>0.329</td>\n",
       "      <td>0.03300</td>\n",
       "      <td>0.256</td>\n",
       "      <td>0.313</td>\n",
       "      <td>0.425</td>\n",
       "      <td>0.03300</td>\n",
       "      <td>0.000075</td>\n",
       "    </tr>\n",
       "    <tr>\n",
       "      <th>yellow S setback comets grbs C/O</th>\n",
       "      <td>0.196</td>\n",
       "      <td>0.362</td>\n",
       "      <td>0.00787</td>\n",
       "      <td>0.248</td>\n",
       "      <td>0.306</td>\n",
       "      <td>0.421</td>\n",
       "      <td>0.00787</td>\n",
       "      <td>0.000018</td>\n",
       "    </tr>\n",
       "    <tr>\n",
       "      <th>yellow S setback comets grbs vol C/O</th>\n",
       "      <td>0.199</td>\n",
       "      <td>0.344</td>\n",
       "      <td>0.00970</td>\n",
       "      <td>0.251</td>\n",
       "      <td>0.309</td>\n",
       "      <td>0.421</td>\n",
       "      <td>0.00970</td>\n",
       "      <td>0.000022</td>\n",
       "    </tr>\n",
       "    <tr>\n",
       "      <th>yellow S setback comets grbs glac C/O</th>\n",
       "      <td>0.198</td>\n",
       "      <td>0.345</td>\n",
       "      <td>0.00980</td>\n",
       "      <td>0.250</td>\n",
       "      <td>0.309</td>\n",
       "      <td>0.423</td>\n",
       "      <td>0.00980</td>\n",
       "      <td>0.000022</td>\n",
       "    </tr>\n",
       "    <tr>\n",
       "      <th>yellow S setback comets grbs glac vol C/O</th>\n",
       "      <td>0.201</td>\n",
       "      <td>0.334</td>\n",
       "      <td>0.01180</td>\n",
       "      <td>0.252</td>\n",
       "      <td>0.312</td>\n",
       "      <td>0.422</td>\n",
       "      <td>0.01180</td>\n",
       "      <td>0.000026</td>\n",
       "    </tr>\n",
       "  </tbody>\n",
       "</table>\n",
       "</div>"
      ],
      "text/plain": [
       "                                           p(alpha)  p(beta)  p(gamma)  \\\n",
       "yellow S setback C/O                          0.224    0.194   0.26200   \n",
       "yellow S setback vol C/O                      0.200    0.212   0.20400   \n",
       "yellow S setback glac C/O                     0.184    0.215   0.20500   \n",
       "yellow S setback glac vol C/O                 0.189    0.214   0.20100   \n",
       "yellow S setback grbs C/O                     0.193    0.326   0.00701   \n",
       "yellow S setback grbs vol C/O                 0.197    0.307   0.01020   \n",
       "yellow S setback grbs glac C/O                0.195    0.309   0.01030   \n",
       "yellow S setback grbs glac vol C/O            0.198    0.298   0.01440   \n",
       "yellow S setback comets C/O                   0.197    0.383   0.01440   \n",
       "yellow S setback comets vol C/O               0.202    0.347   0.02290   \n",
       "yellow S setback comets glac C/O              0.201    0.348   0.02500   \n",
       "yellow S setback comets glac vol C/O          0.203    0.329   0.03300   \n",
       "yellow S setback comets grbs C/O              0.196    0.362   0.00787   \n",
       "yellow S setback comets grbs vol C/O          0.199    0.344   0.00970   \n",
       "yellow S setback comets grbs glac C/O         0.198    0.345   0.00980   \n",
       "yellow S setback comets grbs glac vol C/O     0.201    0.334   0.01180   \n",
       "\n",
       "                                           p(delta_u)  p(delta_d)  p(lambda)  \\\n",
       "yellow S setback C/O                            0.279       0.354      0.425   \n",
       "yellow S setback vol C/O                        0.255       0.350      0.419   \n",
       "yellow S setback glac C/O                       0.239       0.349      0.425   \n",
       "yellow S setback glac vol C/O                   0.244       0.350      0.422   \n",
       "yellow S setback grbs C/O                       0.245       0.311      0.411   \n",
       "yellow S setback grbs vol C/O                   0.250       0.316      0.415   \n",
       "yellow S setback grbs glac C/O                  0.248       0.315      0.418   \n",
       "yellow S setback grbs glac vol C/O              0.251       0.319      0.418   \n",
       "yellow S setback comets C/O                     0.247       0.303      0.432   \n",
       "yellow S setback comets vol C/O                 0.254       0.310      0.426   \n",
       "yellow S setback comets glac C/O                0.253       0.309      0.428   \n",
       "yellow S setback comets glac vol C/O            0.256       0.313      0.425   \n",
       "yellow S setback comets grbs C/O                0.248       0.306      0.421   \n",
       "yellow S setback comets grbs vol C/O            0.251       0.309      0.421   \n",
       "yellow S setback comets grbs glac C/O           0.250       0.309      0.423   \n",
       "yellow S setback comets grbs glac vol C/O       0.252       0.312      0.422   \n",
       "\n",
       "                                               min   product  \n",
       "yellow S setback C/O                       0.19400  0.000478  \n",
       "yellow S setback vol C/O                   0.20000  0.000323  \n",
       "yellow S setback glac C/O                  0.18400  0.000287  \n",
       "yellow S setback glac vol C/O              0.18900  0.000293  \n",
       "yellow S setback grbs C/O                  0.00701  0.000014  \n",
       "yellow S setback grbs vol C/O              0.01020  0.000020  \n",
       "yellow S setback grbs glac C/O             0.01030  0.000020  \n",
       "yellow S setback grbs glac vol C/O         0.01440  0.000028  \n",
       "yellow S setback comets C/O                0.01440  0.000035  \n",
       "yellow S setback comets vol C/O            0.02290  0.000054  \n",
       "yellow S setback comets glac C/O           0.02500  0.000059  \n",
       "yellow S setback comets glac vol C/O       0.03300  0.000075  \n",
       "yellow S setback comets grbs C/O           0.00787  0.000018  \n",
       "yellow S setback comets grbs vol C/O       0.00970  0.000022  \n",
       "yellow S setback comets grbs glac C/O      0.00980  0.000022  \n",
       "yellow S setback comets grbs glac vol C/O  0.01180  0.000026  "
      ]
     },
     "execution_count": 12,
     "metadata": {},
     "output_type": "execute_result"
    }
   ],
   "source": [
    "compute_probs(H_S=[1], H_death=[1], H_glac=[0,1],\n",
    "              H_comets=[0,1], H_vol=[0,1], \n",
    "              H_grbs=[0,1], **H_nb)"
   ]
  },
  {
   "cell_type": "markdown",
   "metadata": {},
   "source": [
    "**Either an Earthlike C/O or Mg/Si ratio is necessary**"
   ]
  },
  {
   "cell_type": "code",
   "execution_count": 13,
   "metadata": {
    "colab": {
     "base_uri": "https://localhost:8080/",
     "height": 141
    },
    "colab_type": "code",
    "id": "zxrHuXmKeZ4o",
    "outputId": "0c8fc06a-2432-48d4-bff7-cf9196f20858"
   },
   "outputs": [
    {
     "name": "stderr",
     "output_type": "stream",
     "text": [
      "3it [00:13,  4.52s/it]\n"
     ]
    },
    {
     "data": {
      "text/html": [
       "<div>\n",
       "<style scoped>\n",
       "    .dataframe tbody tr th:only-of-type {\n",
       "        vertical-align: middle;\n",
       "    }\n",
       "\n",
       "    .dataframe tbody tr th {\n",
       "        vertical-align: top;\n",
       "    }\n",
       "\n",
       "    .dataframe thead th {\n",
       "        text-align: right;\n",
       "    }\n",
       "</style>\n",
       "<table border=\"1\" class=\"dataframe\">\n",
       "  <thead>\n",
       "    <tr style=\"text-align: right;\">\n",
       "      <th></th>\n",
       "      <th>p(alpha)</th>\n",
       "      <th>p(beta)</th>\n",
       "      <th>p(gamma)</th>\n",
       "      <th>p(delta_u)</th>\n",
       "      <th>p(delta_d)</th>\n",
       "      <th>p(lambda)</th>\n",
       "      <th>p(E_R)</th>\n",
       "      <th>p(sugar/rock)</th>\n",
       "      <th>min</th>\n",
       "      <th>product</th>\n",
       "    </tr>\n",
       "  </thead>\n",
       "  <tbody>\n",
       "    <tr>\n",
       "      <th>yellow S</th>\n",
       "      <td>0.423</td>\n",
       "      <td>0.273</td>\n",
       "      <td>0.234</td>\n",
       "      <td>0.167</td>\n",
       "      <td>0.494</td>\n",
       "      <td>0.428</td>\n",
       "      <td>0.456</td>\n",
       "      <td>0.000124</td>\n",
       "      <td>0.000124</td>\n",
       "      <td>5.395014e-08</td>\n",
       "    </tr>\n",
       "    <tr>\n",
       "      <th>yellow S C/O</th>\n",
       "      <td>0.224</td>\n",
       "      <td>0.194</td>\n",
       "      <td>0.262</td>\n",
       "      <td>0.279</td>\n",
       "      <td>0.354</td>\n",
       "      <td>0.425</td>\n",
       "      <td>0.295</td>\n",
       "      <td>0.280000</td>\n",
       "      <td>0.194000</td>\n",
       "      <td>3.947549e-05</td>\n",
       "    </tr>\n",
       "    <tr>\n",
       "      <th>yellow S Mg/Si</th>\n",
       "      <td>0.240</td>\n",
       "      <td>0.199</td>\n",
       "      <td>0.265</td>\n",
       "      <td>0.290</td>\n",
       "      <td>0.357</td>\n",
       "      <td>0.425</td>\n",
       "      <td>0.236</td>\n",
       "      <td>0.135000</td>\n",
       "      <td>0.135000</td>\n",
       "      <td>1.774235e-05</td>\n",
       "    </tr>\n",
       "  </tbody>\n",
       "</table>\n",
       "</div>"
      ],
      "text/plain": [
       "                p(alpha)  p(beta)  p(gamma)  p(delta_u)  p(delta_d)  \\\n",
       "yellow S           0.423    0.273     0.234       0.167       0.494   \n",
       "yellow S C/O       0.224    0.194     0.262       0.279       0.354   \n",
       "yellow S Mg/Si     0.240    0.199     0.265       0.290       0.357   \n",
       "\n",
       "                p(lambda)  p(E_R)  p(sugar/rock)       min       product  \n",
       "yellow S            0.428   0.456       0.000124  0.000124  5.395014e-08  \n",
       "yellow S C/O        0.425   0.295       0.280000  0.194000  3.947549e-05  \n",
       "yellow S Mg/Si      0.425   0.236       0.135000  0.135000  1.774235e-05  "
      ]
     },
     "execution_count": 13,
     "metadata": {},
     "output_type": "execute_result"
    }
   ],
   "source": [
    "compute_probs(H_S=[1], H_CO=[0,1,2], Q_ER=1, **H_nb)"
   ]
  }
 ],
 "metadata": {
  "colab": {
   "authorship_tag": "ABX9TyODmVvNuTZvqP8LfWox8toz",
   "name": "muhaha_demo.ipynb",
   "provenance": [],
   "toc_visible": true
  },
  "kernelspec": {
   "display_name": "Python 3 (ipykernel)",
   "language": "python",
   "name": "python3"
  },
  "language_info": {
   "codemirror_mode": {
    "name": "ipython",
    "version": 3
   },
   "file_extension": ".py",
   "mimetype": "text/x-python",
   "name": "python",
   "nbconvert_exporter": "python",
   "pygments_lexer": "ipython3",
   "version": "3.10.5"
  }
 },
 "nbformat": 4,
 "nbformat_minor": 4
}
